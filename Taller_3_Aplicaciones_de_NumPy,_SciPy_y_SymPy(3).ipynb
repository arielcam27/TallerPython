{
  "nbformat": 4,
  "nbformat_minor": 0,
  "metadata": {
    "colab": {
      "provenance": []
    },
    "kernelspec": {
      "name": "python3",
      "display_name": "Python 3"
    },
    "language_info": {
      "name": "python"
    }
  },
  "cells": [
    {
      "cell_type": "markdown",
      "source": [
        "# Geometría Vectorial con NumPy"
      ],
      "metadata": {
        "id": "QtFTydzhJRdn"
      }
    },
    {
      "cell_type": "markdown",
      "source": [
        "Podemos realizar algunas operaciones básicas de Álgebra Lineal con numPy: https://numpy.org/doc/stable/reference/routines.linalg.html\n",
        "\n",
        "Como puede observarse en la documentación, en varias de ellas necesitaremos el submódulo `.linalg`."
      ],
      "metadata": {
        "id": "af0U7jXXGcs5"
      }
    },
    {
      "cell_type": "code",
      "source": [
        "import matplotlib.pyplot as plt\n",
        "import numpy as np"
      ],
      "metadata": {
        "id": "YJta03HegqAm"
      },
      "execution_count": 28,
      "outputs": []
    },
    {
      "cell_type": "markdown",
      "source": [
        "## Operaciones entre vectores\n",
        "\n",
        "La suma y resta es directa usando arreglos de NumPy."
      ],
      "metadata": {
        "id": "YVmF0FkEGpob"
      }
    },
    {
      "cell_type": "code",
      "source": [
        "# Ejemplo: sumar dos vectores de R2, visualizar vectores\n",
        "\n",
        "def dibuja_vec(miVec, miWidth=0.03, miCol='k', etiq=''):\n",
        "  '''\n",
        "  Dibujar un vector (flecha) desde el origen hacia miVec en el plano.\n",
        "  '''\n",
        "  plt.arrow(0,0,miVec[0],miVec[1],width=miWidth,facecolor=miCol,edgecolor=miCol,length_includes_head=True)\n",
        "  plt.annotate(etiq,miVec)\n",
        "\n",
        "a = np.array([2,-2])\n",
        "b = np.array([1,3])\n",
        "\n",
        "plt.figure(figsize=(3,4))\n",
        "plt.arrow(a[0],a[1],b[0],b[1],width=0.03,facecolor='b',edgecolor='b',length_includes_head=True,alpha=0.4)\n",
        "dibuja_vec(a,etiq='a')\n",
        "dibuja_vec(b, miCol='b', etiq='b')\n",
        "dibuja_vec(a+b, miCol='r', etiq='a+b')\n",
        "#plt.xlim([0,4])\n",
        "#plt.ylim([0,4])\n",
        "plt.grid()\n",
        "plt.show()"
      ],
      "metadata": {
        "colab": {
          "base_uri": "https://localhost:8080/",
          "height": 368
        },
        "id": "q5AsxbQYgxbQ",
        "outputId": "8c3fcef6-e826-48e9-9cc3-a0ecd5a1deeb"
      },
      "execution_count": 29,
      "outputs": [
        {
          "output_type": "display_data",
          "data": {
            "text/plain": [
              "<Figure size 300x400 with 1 Axes>"
            ],
            "image/png": "[encoded data removed]"
          },
          "metadata": {}
        }
      ]
    },
    {
      "cell_type": "markdown",
      "source": [
        "## Productos entre vectores\n",
        "\n",
        "**Comandos:** `vdot`, `inner`, `outer`\n",
        "\n",
        "Tenemos también disponible el **producto punto (escalar)**: $$u \\cdot v = \\sum_{k=1}^n u_k v_k$$\n",
        "\n",
        "También está el llamado **producto exterior** entre dos vectores $u,v$ de tamaños $n,m$ donde el resultado es una matriz de $n\\times m$ tal que la entrada $(i,j)$ es $u_i v_k$."
      ],
      "metadata": {
        "id": "2-sAPFTufeUe"
      }
    },
    {
      "cell_type": "code",
      "source": [
        "a = np.array([1,2,3])\n",
        "b = np.array([-1,3,7])\n",
        "\n",
        "print( f\"Producto escalar (vdot): {np.vdot(a,b)}\" ) # producto punto o escalar\n",
        "print( f\"Producto escalar (inner): {np.inner(a,b)}\" ) # producto punto o escalar\n",
        "print( f\"Producto exterior (outer):\\n {np.outer(a,b)}\" ) # producto exterior: a_i * b_j"
      ],
      "metadata": {
        "colab": {
          "base_uri": "https://localhost:8080/"
        },
        "id": "M_fB66pqO3_3",
        "outputId": "3733df66-2de1-4861-a3ef-44ce0e73c121"
      },
      "execution_count": 30,
      "outputs": [
        {
          "output_type": "stream",
          "name": "stdout",
          "text": [
            "Producto escalar (vdot): 26\n",
            "Producto escalar (inner): 26\n",
            "Producto exterior (outer):\n",
            " [[-1  3  7]\n",
            " [-2  6 14]\n",
            " [-3  9 21]]\n"
          ]
        }
      ]
    },
    {
      "cell_type": "markdown",
      "source": [
        "## Norma de vectores\n",
        "\n",
        "**Comando:** `norm`\n",
        "\n",
        "Es posible también calcular la **normal (Euclideana)** de vectores en $\\mathbb{R}^n$."
      ],
      "metadata": {
        "id": "p6bO-UmQRbeZ"
      }
    },
    {
      "cell_type": "code",
      "source": [
        "a = np.array([1,2,3])\n",
        "\n",
        "np.linalg.norm( a ) # necesitamos .linalg"
      ],
      "metadata": {
        "colab": {
          "base_uri": "https://localhost:8080/"
        },
        "id": "n11zPc-rRjOE",
        "outputId": "99e19c2a-2fd1-44f6-cc5b-fa4f930fb1be"
      },
      "execution_count": 31,
      "outputs": [
        {
          "output_type": "execute_result",
          "data": {
            "text/plain": [
              "3.7416573867739413"
            ]
          },
          "metadata": {},
          "execution_count": 31
        }
      ]
    },
    {
      "cell_type": "markdown",
      "source": [
        "## Aplicación: Normalización de vectores en $\\mathbb{R}^n$\n",
        "\n",
        "Usando el comando anterior podemos calcular un vector unitario que preserve la dirección:\n",
        "\n",
        "$$v_{nor} = \\frac{v}{||v||}$$"
      ],
      "metadata": {
        "id": "RathUdxdRPoy"
      }
    },
    {
      "cell_type": "code",
      "source": [
        "# Ejemplo: normalizar el siguiente vector y visualizarlo\n",
        "\n",
        "a = np.array( [1,3] )\n",
        "a_nor = a / np.linalg.norm( a )\n",
        "\n",
        "plt.figure(figsize=(1.5,4))\n",
        "plt.xlim([0,2])\n",
        "plt.ylim([0,3])\n",
        "\n",
        "dibuja_vec(a,etiq='a')\n",
        "dibuja_vec(a_nor,miCol='r',etiq='a_nor')\n",
        "plt.grid()\n",
        "plt.show()"
      ],
      "metadata": {
        "id": "JlP3DdcTROEz",
        "colab": {
          "base_uri": "https://localhost:8080/",
          "height": 379
        },
        "outputId": "1af5f0f5-2c60-4fa8-bfc7-3503dc900cdf"
      },
      "execution_count": 32,
      "outputs": [
        {
          "output_type": "display_data",
          "data": {
            "text/plain": [
              "<Figure size 150x400 with 1 Axes>"
            ],
            "image/png": "[encoded data removed]"
          },
          "metadata": {}
        }
      ]
    },
    {
      "cell_type": "code",
      "source": [
        "def norm_vec(miVec):\n",
        "  '''\n",
        "  Calcula vector unitario con misma dirección que miVec.\n",
        "  '''\n",
        "  if not np.isclose(np.linalg.norm( miVec ), 0):\n",
        "    return miVec / np.linalg.norm( miVec )\n",
        "  else:\n",
        "    return None\n",
        "\n"
      ],
      "metadata": {
        "id": "IdAitwGaU-oz"
      },
      "execution_count": 33,
      "outputs": []
    },
    {
      "cell_type": "code",
      "source": [
        "plt.figure(figsize=(3,4))\n",
        "#plt.xlim([0,4])\n",
        "#plt.ylim([0,4])\n",
        "plt.grid()\n",
        "\n",
        "a = np.array( [2,1] )\n",
        "b = np.array( [1,-2] )\n",
        "dibuja_vec(a,etiq=\"a\")\n",
        "dibuja_vec(norm_vec(a),miCol='r',etiq=\"a_norm\")\n",
        "dibuja_vec(b,etiq=\"b\")\n",
        "dibuja_vec(norm_vec(b),miCol='g',etiq=\"b_norm\")\n",
        "plt.show()"
      ],
      "metadata": {
        "colab": {
          "base_uri": "https://localhost:8080/",
          "height": 368
        },
        "id": "5ED82hDHVXQw",
        "outputId": "ee36b0c5-9cc4-4a5b-e1c0-17e57a7c6c76"
      },
      "execution_count": 34,
      "outputs": [
        {
          "output_type": "display_data",
          "data": {
            "text/plain": [
              "<Figure size 300x400 with 1 Axes>"
            ],
            "image/png": "[encoded data removed]"
          },
          "metadata": {}
        }
      ]
    },
    {
      "cell_type": "markdown",
      "source": [
        "## Ángulo entre vectores\n",
        "\n",
        "Con la norma también podemos calcular el ángulo entre vectores:\n",
        "$$u\\cdot y = |u|\\ |v|\\ \\cos \\alpha$$"
      ],
      "metadata": {
        "id": "7XGuqk2xdzJ8"
      }
    },
    {
      "cell_type": "code",
      "source": [
        "a = np.array([2,-2])\n",
        "b = np.array([1,3])\n",
        "c = np.array([1,1])\n",
        "\n",
        "def angEntreVecs(u,v):\n",
        "  '''\n",
        "  Regresa ángulo entre vectores u,v en grados\n",
        "  '''\n",
        "  return np.arccos( np.vdot(u,v) / ( np.linalg.norm(u)*np.linalg.norm(v) ) ) * 180 / np.pi\n",
        "\n",
        "print( f\"ángulo entre a y b: {angEntreVecs(a,b):.3f}\")\n",
        "print( f\"ángulo entre a y c: {angEntreVecs(a,c):.3f}\" )\n",
        "\n",
        "plt.figure(figsize=(4,4))\n",
        "dibuja_vec(a,etiq=\"a\")\n",
        "dibuja_vec(b,miCol='b',etiq=\"b\")\n",
        "dibuja_vec(c,miCol='r',etiq=\"c\")\n",
        "plt.xlim([-2,3])\n",
        "plt.ylim([-2,3])\n",
        "plt.grid()\n",
        "plt.show()"
      ],
      "metadata": {
        "colab": {
          "base_uri": "https://localhost:8080/",
          "height": 416
        },
        "id": "lwDVPWqOdxxb",
        "outputId": "e7322637-eca2-49e6-a198-ff8a016fd0ae"
      },
      "execution_count": 35,
      "outputs": [
        {
          "output_type": "stream",
          "name": "stdout",
          "text": [
            "ángulo entre a y b: 116.565\n",
            "ángulo entre a y c: 90.000\n"
          ]
        },
        {
          "output_type": "display_data",
          "data": {
            "text/plain": [
              "<Figure size 400x400 with 1 Axes>"
            ],
            "image/png": "[encoded data removed]"
          },
          "metadata": {}
        }
      ]
    },
    {
      "cell_type": "markdown",
      "source": [
        "## Producto cruz\n",
        "\n",
        "**Comando:** `cross`\n",
        "\n",
        "$\\mathbf{a} \\times \\mathbf{b}$"
      ],
      "metadata": {
        "id": "k3q5LdtTiAhS"
      }
    },
    {
      "cell_type": "code",
      "source": [
        "avec = np.array([1,1,0])\n",
        "bvec = np.array([1,0,1])\n",
        "axbvec  = np.cross(avec,bvec)\n",
        "print(axbvec)"
      ],
      "metadata": {
        "colab": {
          "base_uri": "https://localhost:8080/"
        },
        "id": "uWWHEuOliuq4",
        "outputId": "edfbe51f-a9fa-4762-8d84-b207e27b62ca"
      },
      "execution_count": 36,
      "outputs": [
        {
          "output_type": "stream",
          "name": "stdout",
          "text": [
            "[ 1 -1 -1]\n"
          ]
        }
      ]
    },
    {
      "cell_type": "code",
      "source": [
        "np.dot(avec,axbvec)"
      ],
      "metadata": {
        "colab": {
          "base_uri": "https://localhost:8080/"
        },
        "id": "-eQXIn1ZlxXX",
        "outputId": "26bdd6ce-3160-4754-ade1-39e5560ab9c5"
      },
      "execution_count": 37,
      "outputs": [
        {
          "output_type": "execute_result",
          "data": {
            "text/plain": [
              "0"
            ]
          },
          "metadata": {},
          "execution_count": 37
        }
      ]
    },
    {
      "cell_type": "markdown",
      "source": [
        "## Álgebra Lineal con NumPy"
      ],
      "metadata": {
        "id": "eCFI7VZqhp96"
      }
    },
    {
      "cell_type": "markdown",
      "source": [
        "### Operaciones entre matrices\n",
        "\n",
        "**Operador:** `@`\n",
        "\n",
        "**Comandos:** `matmul, matrix_power`\n",
        "\n",
        "Para la suma de matrices podemos usar `+` y análogamente para la resta. La multiplicación por escalares se puede realizar con `*`. Para la multiplicación y la potencia de matrices podemos usar los siguientes:"
      ],
      "metadata": {
        "id": "yBnKnhTwl_VS"
      }
    },
    {
      "cell_type": "code",
      "source": [
        "A = np.array([[1,2],[-2,3]])\n",
        "B = np.array([[1,1,1],[1,0,3]])\n",
        "\n",
        "print( A.shape[1] == B.shape[0] ) # revisar que podamos multiplicar matrices\n",
        "\n",
        "C = A @ B\n",
        "print( C )\n",
        "\n",
        "D = np.matmul(A,B) # es equivalente a usar @\n",
        "print( np.array_equal(C,D) ) # comprobar igualdad de resultados"
      ],
      "metadata": {
        "colab": {
          "base_uri": "https://localhost:8080/"
        },
        "id": "cvzvbNwU6ApI",
        "outputId": "72ae907b-0a7e-4181-f98b-55afb6501226"
      },
      "execution_count": 38,
      "outputs": [
        {
          "output_type": "stream",
          "name": "stdout",
          "text": [
            "True\n",
            "[[ 3  1  7]\n",
            " [ 1 -2  7]]\n",
            "True\n"
          ]
        }
      ]
    },
    {
      "cell_type": "markdown",
      "source": [
        "### Aplicación: Exploración de potencias de matrices"
      ],
      "metadata": {
        "id": "4aZV12MoxAQm"
      }
    },
    {
      "cell_type": "markdown",
      "source": [
        "Sea $\\displaystyle A = \\begin{pmatrix}0 & -1 \\\\ 1 & 2\\end{pmatrix}$. ¿Qué matriz resulta de $A^n$ con $n$ entero positivo?"
      ],
      "metadata": {
        "id": "0GAexNiABJUv"
      }
    },
    {
      "cell_type": "code",
      "source": [
        "A = np.array([ [0,-1],[1,2] ])\n",
        "\n",
        "for n in range(5):\n",
        "  print( \"n=\"+str(n+1)+\":\\n\",np.linalg.matrix_power(A,n+1),\"\\n\" )"
      ],
      "metadata": {
        "id": "PYx1WhyuGkQ8",
        "colab": {
          "base_uri": "https://localhost:8080/"
        },
        "outputId": "8c38898a-2284-4db1-ddf8-2112e7071308"
      },
      "execution_count": 39,
      "outputs": [
        {
          "output_type": "stream",
          "name": "stdout",
          "text": [
            "n=1:\n",
            " [[ 0 -1]\n",
            " [ 1  2]] \n",
            "\n",
            "n=2:\n",
            " [[-1 -2]\n",
            " [ 2  3]] \n",
            "\n",
            "n=3:\n",
            " [[-2 -3]\n",
            " [ 3  4]] \n",
            "\n",
            "n=4:\n",
            " [[-3 -4]\n",
            " [ 4  5]] \n",
            "\n",
            "n=5:\n",
            " [[-4 -5]\n",
            " [ 5  6]] \n",
            "\n"
          ]
        }
      ]
    },
    {
      "cell_type": "markdown",
      "source": [
        "**Conjetura**. $\\displaystyle A = \\begin{pmatrix}-(n-1) & -n \\\\ n & n+1\\end{pmatrix}$"
      ],
      "metadata": {
        "id": "LaOj7UlwAJuB"
      }
    },
    {
      "cell_type": "markdown",
      "source": [
        "## Generación de matrices especiales\n",
        "\n",
        "**Comandos:** `eye`, `identity`, `ones`, `zeros`, `full`\n",
        "\n",
        "Con `eye` generamos una matriz con 1 en la diagonal principal y 0 fuera de ella. Con `identity` generamos matriz identidad de tamaño $n\\times n$. Con `ones` y `zeros` generamos una matriz totalmente compuesto por unos o ceros, respectivamente. Y con `full` generamos una matriz totalmente compuesto por un valor dado."
      ],
      "metadata": {
        "id": "9s6d3kEMFWBP"
      }
    },
    {
      "cell_type": "code",
      "source": [
        "I3  = np.identity(3)\n",
        "I32 = np.eye(3,2)\n",
        "U2  = np.ones([2,2])\n",
        "F7  = np.full([2,5], fill_value=7)\n",
        "\n",
        "print(I3, \"\\n\\n\", I32,\"\\n\\n\", U2,\"\\n\\n\", F7)"
      ],
      "metadata": {
        "colab": {
          "base_uri": "https://localhost:8080/"
        },
        "id": "uFR8FCYYGIzB",
        "outputId": "f4c3e958-189b-4aed-efdc-2be1a8f3d2e6"
      },
      "execution_count": 40,
      "outputs": [
        {
          "output_type": "stream",
          "name": "stdout",
          "text": [
            "[[1. 0. 0.]\n",
            " [0. 1. 0.]\n",
            " [0. 0. 1.]] \n",
            "\n",
            " [[1. 0.]\n",
            " [0. 1.]\n",
            " [0. 0.]] \n",
            "\n",
            " [[1. 1.]\n",
            " [1. 1.]] \n",
            "\n",
            " [[7 7 7 7 7]\n",
            " [7 7 7 7 7]]\n"
          ]
        }
      ]
    },
    {
      "cell_type": "markdown",
      "source": [
        "## Inversas y solución de sistemas lineales\n",
        "\n",
        "**Comandos:** `solve`, `inv`"
      ],
      "metadata": {
        "id": "md1uL2Y-DGu9"
      }
    },
    {
      "cell_type": "markdown",
      "source": [
        "Si $A$ es una matriz cuadrada de rango máximo, podemos resolver el sistema de ecuaciones lineales $Ax=b$ para obtener su solución única usando el comando `solve`."
      ],
      "metadata": {
        "id": "LcN-Oy0MDSYQ"
      }
    },
    {
      "cell_type": "markdown",
      "source": [
        "**Ejemplo.** Resolver el sistema\n",
        "\n",
        "$x+y=4,$\n",
        "\n",
        "$2x-y=-1$."
      ],
      "metadata": {
        "id": "2fnnHa6OD0AY"
      }
    },
    {
      "cell_type": "code",
      "source": [
        "A = np.array([[1,1],[2,-1]])  # matriz de coeficientes A\n",
        "b = np.array([4,-1])          # vector b\n",
        "\n",
        "x = np.linalg.solve(A,b)      # resolvemos Ax=b para x\n",
        "print(\"x =\", x)               # imprimimos resultado\n",
        "\n",
        "print( \"Ax =\", A @ x )        # comprobación\n",
        "\n",
        "print( np.allclose(b,A@x) )   # preguntamos si b es prácticamente Ax"
      ],
      "metadata": {
        "colab": {
          "base_uri": "https://localhost:8080/"
        },
        "id": "V8NXM0CuDPV4",
        "outputId": "5f7994a7-2380-47ac-dc3a-021fd8eeef92"
      },
      "execution_count": 41,
      "outputs": [
        {
          "output_type": "stream",
          "name": "stdout",
          "text": [
            "x = [1. 3.]\n",
            "Ax = [ 4. -1.]\n",
            "True\n"
          ]
        }
      ]
    },
    {
      "cell_type": "markdown",
      "source": [
        "Para la inversa usamos el comando `inv`."
      ],
      "metadata": {
        "id": "g3x9O_xHE4ey"
      }
    },
    {
      "cell_type": "code",
      "source": [
        "A_inv = np.linalg.inv(A) # obtenemos inversa de A\n",
        "#print(A_inv)\n",
        "print(np.around(A_inv,3))\n",
        "\n",
        "print(np.around(A @ A_inv,3)) # comprobamos\n",
        "\n",
        "print(np.allclose(A @ A_inv, np.eye(2))) # preguntamos si se parece a la identidad"
      ],
      "metadata": {
        "colab": {
          "base_uri": "https://localhost:8080/"
        },
        "id": "2UiXie-GE3R4",
        "outputId": "3882497f-3967-413b-ba73-0ef3ae5748f7"
      },
      "execution_count": 42,
      "outputs": [
        {
          "output_type": "stream",
          "name": "stdout",
          "text": [
            "[[ 0.333  0.333]\n",
            " [ 0.667 -0.333]]\n",
            "[[1. 0.]\n",
            " [0. 1.]]\n",
            "True\n"
          ]
        }
      ]
    },
    {
      "cell_type": "markdown",
      "source": [
        "## Transpuesta, determinante, rango\n",
        "\n",
        "**Atributo:** `.T`\n",
        "**Comandos:** `transpose`, `det`, `matrix_rank`\n",
        "\n",
        "Podemos realizar la transposición de matrices usando `.T` o `transpose`."
      ],
      "metadata": {
        "id": "rpmpykFmG4r8"
      }
    },
    {
      "cell_type": "code",
      "source": [
        "A = np.array([ [-3, 5,4],  [2, 1,4]])\n",
        "print(A.T)\n",
        "print(np.transpose(A)) # deteminar transpuesta de A"
      ],
      "metadata": {
        "id": "02Wbm40VHMuH",
        "colab": {
          "base_uri": "https://localhost:8080/"
        },
        "outputId": "a085ad62-6b74-4a7c-f337-a147af82d1d4"
      },
      "execution_count": 43,
      "outputs": [
        {
          "output_type": "stream",
          "name": "stdout",
          "text": [
            "[[-3  2]\n",
            " [ 5  1]\n",
            " [ 4  4]]\n",
            "[[-3  2]\n",
            " [ 5  1]\n",
            " [ 4  4]]\n"
          ]
        }
      ]
    },
    {
      "cell_type": "markdown",
      "source": [
        "Para hallar el determinante podemos usar `det`."
      ],
      "metadata": {
        "id": "ZgrwyObLzC-3"
      }
    },
    {
      "cell_type": "code",
      "source": [
        "A = np.array([ [-3, 5],  [2, 1]])\n",
        "\n",
        "np.linalg.det(A) # calcular determinante de A"
      ],
      "metadata": {
        "colab": {
          "base_uri": "https://localhost:8080/"
        },
        "id": "wysUhiI9SwPM",
        "outputId": "8c8ce203-68d7-4e89-ed9f-adb27162ff46"
      },
      "execution_count": 44,
      "outputs": [
        {
          "output_type": "execute_result",
          "data": {
            "text/plain": [
              "-13.0"
            ]
          },
          "metadata": {},
          "execution_count": 44
        }
      ]
    },
    {
      "cell_type": "markdown",
      "source": [
        "Finalmente, también es posible hallar el rango de una matriz usando `matrix_rank`."
      ],
      "metadata": {
        "id": "76wuzGedzKqz"
      }
    },
    {
      "cell_type": "code",
      "source": [
        "v1 = np.array([1,2,3,4])\n",
        "v2 = np.array([3,2,0,1])\n",
        "v3 = v1+v2\n",
        "\n",
        "A = np.array([v1, v2, v3]).T # construimos matriz con ciertos vectores columna\n",
        "print(A)\n",
        "\n",
        "print( np.linalg.matrix_rank(A) ) # esperamos rango igual a 2"
      ],
      "metadata": {
        "colab": {
          "base_uri": "https://localhost:8080/"
        },
        "id": "0GPbk2GgTPwM",
        "outputId": "88c2521d-47d3-4c4a-8462-9ebd7536d4d0"
      },
      "execution_count": 45,
      "outputs": [
        {
          "output_type": "stream",
          "name": "stdout",
          "text": [
            "[[1 3 4]\n",
            " [2 2 4]\n",
            " [3 0 3]\n",
            " [4 1 5]]\n",
            "2\n"
          ]
        }
      ]
    },
    {
      "cell_type": "markdown",
      "source": [
        "### Aplicaciones: Generar matrices simétricas y antisimétricas\n",
        "\n",
        "Algunos resultados de álgebra lineal tratan sobre generar matrices simétricas o antisimétricas dada una matriz $A$."
      ],
      "metadata": {
        "id": "JpSIkpsV_W5F"
      }
    },
    {
      "cell_type": "code",
      "source": [
        "A = np.array([[1, 3, -7, 1], [0, 2, 4, 3], [0, 0, -5, 2]])\n",
        "B = A @ A.T\n",
        "print(B)"
      ],
      "metadata": {
        "colab": {
          "base_uri": "https://localhost:8080/"
        },
        "id": "LN_1m7os_kRQ",
        "outputId": "74a4f358-ad01-40e3-8587-9e0ca4b728a2"
      },
      "execution_count": 46,
      "outputs": [
        {
          "output_type": "stream",
          "name": "stdout",
          "text": [
            "[[ 60 -19  37]\n",
            " [-19  29 -14]\n",
            " [ 37 -14  29]]\n"
          ]
        }
      ]
    },
    {
      "cell_type": "code",
      "source": [
        "A = np.array([[1, 3, -7], [0, 2, 4], [0, 0, -5]])\n",
        "B = A + A.T\n",
        "C = A - A.T\n",
        "print(f\"B:\\n {B}\")\n",
        "print(f\"C:\\n {C}\")\n"
      ],
      "metadata": {
        "colab": {
          "base_uri": "https://localhost:8080/"
        },
        "id": "YCPWEUEx_2Fh",
        "outputId": "3356d38a-1b46-4385-f8e1-64e1a691fd02"
      },
      "execution_count": 47,
      "outputs": [
        {
          "output_type": "stream",
          "name": "stdout",
          "text": [
            "B:\n",
            " [[  2   3  -7]\n",
            " [  3   4   4]\n",
            " [ -7   4 -10]]\n",
            "C:\n",
            " [[ 0  3 -7]\n",
            " [-3  0  4]\n",
            " [ 7 -4  0]]\n"
          ]
        }
      ]
    },
    {
      "cell_type": "markdown",
      "source": [
        "## Eigenvalores y eigenvectores\n",
        "\n",
        "**Comandos:** `eigvals`, `eig`\n",
        "\n",
        "Es posible determinar valores y vectores propios de una matriz."
      ],
      "metadata": {
        "id": "QLv_KU3ATyEP"
      }
    },
    {
      "cell_type": "code",
      "source": [
        "v1 = np.array([1,2,3])\n",
        "v2 = np.array([3,2,0])\n",
        "v3 = v1+v2\n",
        "\n",
        "A = np.array([v1, v2, v3]).T # construimos matriz con ciertos vectores columna\n",
        "print(A)\n",
        "np.linalg.eigvals(A)"
      ],
      "metadata": {
        "id": "eBI8PkMwHwJD",
        "colab": {
          "base_uri": "https://localhost:8080/"
        },
        "outputId": "c11ddcfa-b7c0-48bb-96f1-18ab684d3bd4"
      },
      "execution_count": 48,
      "outputs": [
        {
          "output_type": "stream",
          "name": "stdout",
          "text": [
            "[[1 3 4]\n",
            " [2 2 4]\n",
            " [3 0 3]]\n"
          ]
        },
        {
          "output_type": "execute_result",
          "data": {
            "text/plain": [
              "array([ 7.00000000e+00, -1.00000000e+00,  8.89402517e-16])"
            ]
          },
          "metadata": {},
          "execution_count": 48
        }
      ]
    },
    {
      "cell_type": "markdown",
      "source": [
        "Observamos un eigenvalor prácticamente igual a cero."
      ],
      "metadata": {
        "id": "8JjFjFl4c9WO"
      }
    },
    {
      "cell_type": "code",
      "source": [
        "vals, vecs = np.linalg.eig(A)\n",
        "\n",
        "for n in range(3):\n",
        "  print(f\"Eigen par {n}: {vals[n]}, {vecs[:,n]}\")\n",
        "\n",
        "print( f\"Comprobacion: A*v=  {A @ vecs[:,0]}, lam*v= {vals[0] * vecs[:,0]}\" )"
      ],
      "metadata": {
        "id": "EGoGeepbHe1m",
        "colab": {
          "base_uri": "https://localhost:8080/"
        },
        "outputId": "4045ff02-9f3d-4904-a1e1-118e1d30b3f5"
      },
      "execution_count": 49,
      "outputs": [
        {
          "output_type": "stream",
          "name": "stdout",
          "text": [
            "Eigen par 0: 6.999999999999998, [0.62469505 0.62469505 0.46852129]\n",
            "Eigen par 1: -1.0000000000000022, [ 0.77298795  0.25766265 -0.57974096]\n",
            "Eigen par 2: 8.89402516638082e-16, [-0.57735027 -0.57735027  0.57735027]\n",
            "Comprobacion: A*v=  [4.37286533 4.37286533 3.279649  ], lam*v= [4.37286533 4.37286533 3.279649  ]\n"
          ]
        }
      ]
    },
    {
      "cell_type": "markdown",
      "source": [
        "## Aplicación: Diagonalización de matrices\n",
        "\n",
        "$D = P^{-1} A P$"
      ],
      "metadata": {
        "id": "lCjH8EIMo3l8"
      }
    },
    {
      "cell_type": "code",
      "source": [
        "print(np.linalg.matrix_rank(vecs))\n",
        "print(np.linalg.inv(vecs) @ A @ vecs )"
      ],
      "metadata": {
        "colab": {
          "base_uri": "https://localhost:8080/"
        },
        "id": "_ToVCHHMnL3d",
        "outputId": "30590d78-931e-4ed9-a740-529249028773"
      },
      "execution_count": 50,
      "outputs": [
        {
          "output_type": "stream",
          "name": "stdout",
          "text": [
            "3\n",
            "[[ 7.00000000e+00  1.77635684e-15 -8.88178420e-16]\n",
            " [-2.50878294e-15 -1.00000000e+00 -2.87998490e-16]\n",
            " [-8.49599761e-16  2.13832098e-15  0.00000000e+00]]\n"
          ]
        }
      ]
    },
    {
      "cell_type": "markdown",
      "source": [
        "## Cálculo diferencial con NumPy\n",
        "\n",
        "**Comando:** `diff`\n",
        "\n"
      ],
      "metadata": {
        "id": "1HNCTGS03Loj"
      }
    },
    {
      "cell_type": "markdown",
      "source": [
        "# SciPy: Extensión de funciones de NumPy"
      ],
      "metadata": {
        "id": "rEDbdVEcH-hb"
      }
    },
    {
      "cell_type": "markdown",
      "source": [
        "**SciPy** es una paquetería que complementa varias funcionalidades de NumPy. En particular para Álgebra Lineal se puede consultar la siguiente documentación: https://docs.scipy.org/doc/scipy/reference/linalg.html"
      ],
      "metadata": {
        "id": "twLIYln1JULR"
      }
    },
    {
      "cell_type": "markdown",
      "source": [
        "* Revisar simetría: `issymmetric`\n",
        "* Descomposición LU: `lu`, `lu_factor`\n",
        "* Valores singulares: `svdvals`\n",
        "* Base del espacio nulo: `null_space`\n",
        "* Raíz cuadrada de matriz: `sqrtm`\n"
      ],
      "metadata": {
        "id": "oB_w06pqIATs"
      }
    },
    {
      "cell_type": "markdown",
      "source": [
        "## Cálculo Integral con SciPy\n",
        "\n",
        "Dentro de SciPy podemos encontrar funcionalidades relacionadas con Cálculo Integral: https://docs.scipy.org/doc/scipy/reference/integrate.html\n",
        "\n",
        "**Comandos:** `quad`\n",
        "\n",
        "Utiliza técnicas de una librería de Fortran QUADPACK para aproximar integrales definidas $\\int_{a}^{b} f(x) dx$."
      ],
      "metadata": {
        "id": "Spb1yL3Jprf9"
      }
    },
    {
      "cell_type": "code",
      "source": [
        "import scipy\n",
        "\n",
        "def f(x):\n",
        "  return 6*x**2-2*x+2\n",
        "\n",
        "scipy.integrate.quad(f, 0, 1)"
      ],
      "metadata": {
        "colab": {
          "base_uri": "https://localhost:8080/"
        },
        "id": "xGRcSFl9qdj6",
        "outputId": "ed5110b6-1bf3-43a3-ba81-ef244870d99c"
      },
      "execution_count": 51,
      "outputs": [
        {
          "output_type": "execute_result",
          "data": {
            "text/plain": [
              "(3.0, 3.3306690738754696e-14)"
            ]
          },
          "metadata": {},
          "execution_count": 51
        }
      ]
    },
    {
      "cell_type": "markdown",
      "source": [
        "## Aplicación: Exploración de sumas de Riemann"
      ],
      "metadata": {
        "id": "Gs46sA-skMV8"
      }
    },
    {
      "cell_type": "code",
      "source": [
        "def func(x):\n",
        "  ''' Función a integrar. '''\n",
        "  return np.exp(x)/(1+np.exp(2*x))\n",
        "\n",
        "# intervalo [a,b], y=f(x)\n",
        "a=0\n",
        "b=2\n",
        "xx=np.linspace(a,b,100)\n",
        "yy=func(xx)\n",
        "\n",
        "# creación de figura para gráficas\n",
        "fig, ax = plt.subplots(figsize=(5,4))\n",
        "plt.plot(xx,yy,linewidth=4)\n",
        "\n",
        "n = 10       # número de rectángulos\n",
        "dx = (b-a)/n # delta x\n",
        "x0=a         # extremo izquierdo\n",
        "x1=x0+dx     # extremo derecho\n",
        "ci=0         # punto en [x0,x1]\n",
        "area=0       # area\n",
        "\n",
        "for ii in range(n):\n",
        "  ''' Se dejan algunas opciones para elegir a ci. '''\n",
        "  #ci=x1            # por derecha\n",
        "  #ci=x0            # por izquierda\n",
        "  ci=x0 + (x1-x0)/2 #punto intermedio\n",
        "\n",
        "  fi=func(ci)\n",
        "  plt.plot([x0,x1],[fi,fi],'r')\n",
        "  plt.plot([x0,x0],[0,fi],'r')\n",
        "  plt.plot([x1,x1],[0,fi],'r')\n",
        "  plt.fill_between([x0,x1],[fi,fi],alpha=0.1,color='r')\n",
        "  area+=(x1-x0)*fi\n",
        "  x0=x1\n",
        "  x1=x0+dx\n",
        "\n",
        "plt.xlabel(\"Eje x\",size=14)\n",
        "plt.ylabel(\"Eje y\",size=14)\n",
        "plt.xticks(size=12)\n",
        "plt.yticks(size=12)\n",
        "print(f\"Suma de Riemann: \\t{area}. \\nAprox. con quad: \\t{scipy.integrate.quad(func, a, b)}. \\nValor real: \\t{np.arctan(np.exp(2))-np.arctan(1)}\")"
      ],
      "metadata": {
        "colab": {
          "base_uri": "https://localhost:8080/",
          "height": 452
        },
        "id": "2XbZqFUwfHc-",
        "outputId": "dc61d9b9-8613-4710-e509-e3dd51127288"
      },
      "execution_count": 52,
      "outputs": [
        {
          "output_type": "stream",
          "name": "stdout",
          "text": [
            "Suma de Riemann: \t0.6510935577155598. \n",
            "Aprox. con quad: \t(0.6508801680230076, 7.226221488110336e-15). \n",
            "Valor real: \t0.6508801680230076\n"
          ]
        },
        {
          "output_type": "display_data",
          "data": {
            "text/plain": [
              "<Figure size 500x400 with 1 Axes>"
            ],
            "image/png": "[encoded data removed]"
          },
          "metadata": {}
        }
      ]
    },
    {
      "cell_type": "markdown",
      "source": [
        "Puede consultar otras funcionalidades de `scipy.integrate` en el siguiente recurso: https://docs.scipy.org/doc/scipy/reference/integrate.html"
      ],
      "metadata": {
        "id": "pECnJSYqmwsZ"
      }
    },
    {
      "cell_type": "markdown",
      "source": [
        "## Extra: Ecuaciones diferenciales"
      ],
      "metadata": {
        "id": "p-E2t7USsyE2"
      }
    },
    {
      "cell_type": "code",
      "source": [
        "def elemLin(x0,y0,m,dx):\n",
        "  theta = np.arctan(m)\n",
        "  xx = np.linspace(x0-dx*np.cos(theta),x0+dx*np.cos(theta))\n",
        "  yy = m*(xx-x0) + y0\n",
        "\n",
        "  return xx, yy"
      ],
      "metadata": {
        "id": "ztcK_G6XRWMl"
      },
      "execution_count": 53,
      "outputs": []
    },
    {
      "cell_type": "markdown",
      "source": [
        "## Ejemplo*\n",
        "$\\frac{dy}{dx} = \\sin(x+y)$"
      ],
      "metadata": {
        "id": "kx2X742jkM5T"
      }
    },
    {
      "cell_type": "code",
      "source": [
        "#@title\n",
        "def f(x,y):\n",
        "  return np.sin(x+y)\n",
        "\n",
        "a=-2\n",
        "b= 3\n",
        "\n",
        "plt.figure(figsize=(6,6))\n",
        "\n",
        "plt.arrow(a,0,2*b,0,head_width=0.2, head_length=0.2)\n",
        "plt.arrow(0,a,0,2*b,head_width=0.2, head_length=0.2)\n",
        "\n",
        "xmesh = np.linspace(a,b,15)\n",
        "ymesh = np.linspace(a,b,15)\n",
        "\n",
        "for x in xmesh:\n",
        "  for y in ymesh:\n",
        "    m=f(x,y)\n",
        "    xx, yy = elemLin(x, y, m, 0.1)\n",
        "    plt.plot(xx, yy, c='b')\n",
        "\n",
        "plt.xlim([a-0.2,b+0.2])\n",
        "plt.ylim([a-0.2,b+0.2])\n",
        "\n",
        "sol = scipy.integrate.solve_ivp(f, t_span=[a,b], y0=[0.9], max_step=0.1)\n",
        "plt.plot(sol.t, sol.y[0,:], c='r', linewidth=3)\n",
        "sol = scipy.integrate.solve_ivp(f, t_span=[a,b], y0=[1.5], max_step=0.1)\n",
        "plt.plot(sol.t, sol.y[0,:], c='g', linewidth=3)\n",
        "sol = scipy.integrate.solve_ivp(f, t_span=[a,b], y0=[2], max_step=0.1)\n",
        "plt.plot(sol.t, sol.y[0,:], c='m', linewidth=3)"
      ],
      "metadata": {
        "colab": {
          "base_uri": "https://localhost:8080/",
          "height": 540
        },
        "id": "OZa1NVB2kSUG",
        "outputId": "9864fb15-5386-4e72-bc78-1c98a917523e"
      },
      "execution_count": 54,
      "outputs": [
        {
          "output_type": "execute_result",
          "data": {
            "text/plain": [
              "[<matplotlib.lines.Line2D at 0x7887b4670130>]"
            ]
          },
          "metadata": {},
          "execution_count": 54
        },
        {
          "output_type": "display_data",
          "data": {
            "text/plain": [
              "<Figure size 600x600 with 1 Axes>"
            ],
            "image/png": "[encoded data removed]"
          },
          "metadata": {}
        }
      ]
    },
    {
      "cell_type": "markdown",
      "source": [
        "También se cuenta con el comando `solve_ivp`."
      ],
      "metadata": {
        "id": "SjROJ5wT4bQW"
      }
    },
    {
      "cell_type": "markdown",
      "source": [
        "## Problemas de optimización con SciPy\n",
        "\n",
        "Algunos problemas de Cálculo Diferencial son de optimización.\n",
        "\n",
        "**Comandos:** `fsolve`, `minimize_scalar`\n",
        "\n",
        "Con `fsolve` se pueden encontrar aproximaciones de raíces cerca de una aproximación inicial. Con `minimize_scalar` se buscará un mínimo de la función."
      ],
      "metadata": {
        "id": "8AgZlMij4mpy"
      }
    },
    {
      "cell_type": "markdown",
      "source": [
        "Encontrar valores críticos de $f(x)=2x^3-4x+10$.\n",
        "\n",
        "Tenemos que $f'(x)=6x^2-4$ y $f''(x)=12x$."
      ],
      "metadata": {
        "id": "W_DrZ4Ug7I9_"
      }
    },
    {
      "cell_type": "code",
      "source": [
        "def df(x):\n",
        "  return 6*x**2 - 4\n",
        "\n",
        "#sol = scipy.optimize.fsolve(df,0)\n",
        "#sol = scipy.optimize.fsolve(df,1)\n",
        "sol = scipy.optimize.fsolve(df,-1)\n",
        "\n",
        "print(sol)"
      ],
      "metadata": {
        "colab": {
          "base_uri": "https://localhost:8080/"
        },
        "id": "TWbQN_BG7faM",
        "outputId": "b96bf6c5-7449-4261-aaef-baf4c83c84d1"
      },
      "execution_count": 55,
      "outputs": [
        {
          "output_type": "stream",
          "name": "stdout",
          "text": [
            "[-0.81649658]\n"
          ]
        }
      ]
    },
    {
      "cell_type": "code",
      "source": [
        "def f(x):\n",
        "  return 2*x**3-4*x+10\n",
        "\n",
        "sol=scipy.optimize.minimize_scalar(f)\n",
        "print(sol)"
      ],
      "metadata": {
        "colab": {
          "base_uri": "https://localhost:8080/"
        },
        "id": "odQxKq6N9Mnb",
        "outputId": "7447568a-9789-490d-bf2a-da648bed3a5e"
      },
      "execution_count": 56,
      "outputs": [
        {
          "output_type": "stream",
          "name": "stdout",
          "text": [
            " message: \n",
            "          Optimization terminated successfully;\n",
            "          The returned value satisfies the termination criteria\n",
            "          (using xtol = 1.48e-08 )\n",
            " success: True\n",
            "     fun: 7.822675784192731\n",
            "       x: 0.8164965820792619\n",
            "     nit: 11\n",
            "    nfev: 14\n"
          ]
        }
      ]
    },
    {
      "cell_type": "markdown",
      "source": [
        "En `optimize` hay otras funciones como mínimos cuadrados, ajuste de curvas. Más sobre `optmize`: https://docs.scipy.org/doc/scipy/reference/optimize.html"
      ],
      "metadata": {
        "id": "HZe_0wd0-fyO"
      }
    },
    {
      "cell_type": "markdown",
      "source": [
        "## SymPy"
      ],
      "metadata": {
        "id": "d_uORw-DI08Q"
      }
    },
    {
      "cell_type": "markdown",
      "source": [
        "**SymPy** es una paquetería que nos permite hacer cálculo simbólico. Se puede consultar un tutorial en la siguiente referencia: https://docs.sympy.org/latest/tutorials/intro-tutorial/calculus.html"
      ],
      "metadata": {
        "id": "BTOABCzUI2iH"
      }
    },
    {
      "cell_type": "markdown",
      "source": [
        "* Símbolos\n",
        "* Funciones\n",
        "* Derivadas: `diff`, `Derivative`\n",
        "* Integrales: `integrate`, `Integral`"
      ],
      "metadata": {
        "id": "nDM4Mp7KI5Vy"
      }
    },
    {
      "cell_type": "code",
      "source": [
        "import sympy"
      ],
      "metadata": {
        "id": "Z1nugRFz4iE6"
      },
      "execution_count": 57,
      "outputs": []
    },
    {
      "cell_type": "code",
      "source": [
        "x = sympy.symbols('x')"
      ],
      "metadata": {
        "id": "-APztoq84jMf"
      },
      "execution_count": 58,
      "outputs": []
    },
    {
      "cell_type": "code",
      "source": [
        "x+x"
      ],
      "metadata": {
        "id": "Kjv-_tIq4mlM",
        "outputId": "9e66dffd-5d85-4834-c1ec-018afc519d98",
        "colab": {
          "base_uri": "https://localhost:8080/",
          "height": 38
        }
      },
      "execution_count": 59,
      "outputs": [
        {
          "output_type": "execute_result",
          "data": {
            "text/plain": [
              "2*x"
            ],
            "text/latex": "$\\displaystyle 2 x$"
          },
          "metadata": {},
          "execution_count": 59
        }
      ]
    },
    {
      "cell_type": "code",
      "source": [
        "str(x+x)"
      ],
      "metadata": {
        "id": "kzoC0R_pDV2M",
        "outputId": "baed4ecc-4b72-4d16-d0a8-977af5b3fdbc",
        "colab": {
          "base_uri": "https://localhost:8080/",
          "height": 35
        }
      },
      "execution_count": 60,
      "outputs": [
        {
          "output_type": "execute_result",
          "data": {
            "text/plain": [
              "'2*x'"
            ],
            "application/vnd.google.colaboratory.intrinsic+json": {
              "type": "string"
            }
          },
          "metadata": {},
          "execution_count": 60
        }
      ]
    },
    {
      "cell_type": "markdown",
      "source": [
        "## Álgebra simbólica"
      ],
      "metadata": {
        "id": "BF7hnZhL4nZO"
      }
    },
    {
      "cell_type": "code",
      "source": [
        "expr = (x**2+1)**2 - 2*x*(x**3-1)"
      ],
      "metadata": {
        "id": "nImtah4Q_PSJ"
      },
      "execution_count": 61,
      "outputs": []
    },
    {
      "cell_type": "code",
      "source": [
        "sympy.expand(expr)"
      ],
      "metadata": {
        "colab": {
          "base_uri": "https://localhost:8080/",
          "height": 38
        },
        "id": "OslGg-ST_Xo0",
        "outputId": "0b5bf863-5944-4cd3-f772-a78911329d49"
      },
      "execution_count": 62,
      "outputs": [
        {
          "output_type": "execute_result",
          "data": {
            "text/plain": [
              "-x**4 + 2*x**2 + 2*x + 1"
            ],
            "text/latex": "$\\displaystyle - x^{4} + 2 x^{2} + 2 x + 1$"
          },
          "metadata": {},
          "execution_count": 62
        }
      ]
    },
    {
      "cell_type": "code",
      "source": [
        "str(sympy.expand(expr))"
      ],
      "metadata": {
        "id": "3NzJsXXvAJFR",
        "outputId": "e8dce825-c621-470f-8617-ae3b92f8b377",
        "colab": {
          "base_uri": "https://localhost:8080/",
          "height": 35
        }
      },
      "execution_count": 63,
      "outputs": [
        {
          "output_type": "execute_result",
          "data": {
            "text/plain": [
              "'-x**4 + 2*x**2 + 2*x + 1'"
            ],
            "application/vnd.google.colaboratory.intrinsic+json": {
              "type": "string"
            }
          },
          "metadata": {},
          "execution_count": 63
        }
      ]
    },
    {
      "cell_type": "markdown",
      "source": [
        "## Cálculo diferencial con SymPy"
      ],
      "metadata": {
        "id": "emI52B8QAV1L"
      }
    },
    {
      "cell_type": "code",
      "source": [
        "dexpr = sympy.diff(expr)\n",
        "dexpr"
      ],
      "metadata": {
        "id": "VoF0Xn4mAXw0",
        "outputId": "4533741c-565e-4993-c8df-8dcca78766b8",
        "colab": {
          "base_uri": "https://localhost:8080/",
          "height": 39
        }
      },
      "execution_count": 64,
      "outputs": [
        {
          "output_type": "execute_result",
          "data": {
            "text/plain": [
              "-8*x**3 + 4*x*(x**2 + 1) + 2"
            ],
            "text/latex": "$\\displaystyle - 8 x^{3} + 4 x \\left(x^{2} + 1\\right) + 2$"
          },
          "metadata": {},
          "execution_count": 64
        }
      ]
    },
    {
      "cell_type": "code",
      "source": [
        "sympy.expand(dexpr)"
      ],
      "metadata": {
        "id": "Es79rJjuAh7l",
        "outputId": "90c6af8d-b019-486c-83be-39fad6b3455f",
        "colab": {
          "base_uri": "https://localhost:8080/",
          "height": 38
        }
      },
      "execution_count": 65,
      "outputs": [
        {
          "output_type": "execute_result",
          "data": {
            "text/plain": [
              "-4*x**3 + 4*x + 2"
            ],
            "text/latex": "$\\displaystyle - 4 x^{3} + 4 x + 2$"
          },
          "metadata": {},
          "execution_count": 65
        }
      ]
    },
    {
      "cell_type": "code",
      "source": [
        "d3expr = sympy.diff(sympy.expand(expr), x, 3)\n",
        "d3expr"
      ],
      "metadata": {
        "id": "dEYA0dQ9Ao1p",
        "outputId": "4d65d6ce-3bfc-44c1-be61-027b8eb62239",
        "colab": {
          "base_uri": "https://localhost:8080/",
          "height": 38
        }
      },
      "execution_count": 66,
      "outputs": [
        {
          "output_type": "execute_result",
          "data": {
            "text/plain": [
              "-24*x"
            ],
            "text/latex": "$\\displaystyle - 24 x$"
          },
          "metadata": {},
          "execution_count": 66
        }
      ]
    },
    {
      "cell_type": "code",
      "source": [
        "y = sympy.symbols('y')\n",
        "\n",
        "exp2d = sympy.cos(x+y**2)\n",
        "\n",
        "sympy.diff(exp2d,x)"
      ],
      "metadata": {
        "id": "BCpumILQA0tl",
        "outputId": "1824954c-ee40-47a3-94d2-09f0701a9c33",
        "colab": {
          "base_uri": "https://localhost:8080/",
          "height": 39
        }
      },
      "execution_count": 67,
      "outputs": [
        {
          "output_type": "execute_result",
          "data": {
            "text/plain": [
              "-sin(x + y**2)"
            ],
            "text/latex": "$\\displaystyle - \\sin{\\left(x + y^{2} \\right)}$"
          },
          "metadata": {},
          "execution_count": 67
        }
      ]
    },
    {
      "cell_type": "code",
      "source": [
        "sympy.diff(exp2d,y)"
      ],
      "metadata": {
        "id": "-bhuEb8CBiV5",
        "outputId": "9a5488e1-888f-428a-894c-cc99b6f34ac0",
        "colab": {
          "base_uri": "https://localhost:8080/",
          "height": 39
        }
      },
      "execution_count": 68,
      "outputs": [
        {
          "output_type": "execute_result",
          "data": {
            "text/plain": [
              "-2*y*sin(x + y**2)"
            ],
            "text/latex": "$\\displaystyle - 2 y \\sin{\\left(x + y^{2} \\right)}$"
          },
          "metadata": {},
          "execution_count": 68
        }
      ]
    },
    {
      "cell_type": "code",
      "source": [
        "sympy.limit(expr, x, 1)"
      ],
      "metadata": {
        "id": "NK4D5EJWCwoK",
        "outputId": "d9f1a4e4-9210-4efc-8a65-c88423cb99b2",
        "colab": {
          "base_uri": "https://localhost:8080/",
          "height": 37
        }
      },
      "execution_count": 69,
      "outputs": [
        {
          "output_type": "execute_result",
          "data": {
            "text/plain": [
              "4"
            ],
            "text/latex": "$\\displaystyle 4$"
          },
          "metadata": {},
          "execution_count": 69
        }
      ]
    },
    {
      "cell_type": "code",
      "source": [
        "from sympy import oo\n",
        "sympy.limit( (x+3)/(2*x-3), x, oo )"
      ],
      "metadata": {
        "id": "u113D6JvC6UI",
        "outputId": "4ab55bc1-a421-4ea0-ff49-045d419b7308",
        "colab": {
          "base_uri": "https://localhost:8080/",
          "height": 51
        }
      },
      "execution_count": 70,
      "outputs": [
        {
          "output_type": "execute_result",
          "data": {
            "text/plain": [
              "1/2"
            ],
            "text/latex": "$\\displaystyle \\frac{1}{2}$"
          },
          "metadata": {},
          "execution_count": 70
        }
      ]
    },
    {
      "cell_type": "markdown",
      "source": [
        "## Cálculo integral con SymPy"
      ],
      "metadata": {
        "id": "19skY0nMCC8J"
      }
    },
    {
      "cell_type": "code",
      "source": [
        "inexpr = sympy.integrate(expr)\n",
        "inexpr"
      ],
      "metadata": {
        "id": "cmcCZsywCFzQ",
        "outputId": "ad37c324-e697-43e4-890d-219efe172ee7",
        "colab": {
          "base_uri": "https://localhost:8080/",
          "height": 54
        }
      },
      "execution_count": 71,
      "outputs": [
        {
          "output_type": "execute_result",
          "data": {
            "text/plain": [
              "-x**5/5 + 2*x**3/3 + x**2 + x"
            ],
            "text/latex": "$\\displaystyle - \\frac{x^{5}}{5} + \\frac{2 x^{3}}{3} + x^{2} + x$"
          },
          "metadata": {},
          "execution_count": 71
        }
      ]
    },
    {
      "cell_type": "code",
      "source": [
        "sympy.integrate( sympy.exp(-x), (x, 1, oo))"
      ],
      "metadata": {
        "id": "c9Des7xWCK3z",
        "outputId": "53dadced-66e8-432b-cbc6-13cb1c93938c",
        "colab": {
          "base_uri": "https://localhost:8080/",
          "height": 38
        }
      },
      "execution_count": 72,
      "outputs": [
        {
          "output_type": "execute_result",
          "data": {
            "text/plain": [
              "exp(-1)"
            ],
            "text/latex": "$\\displaystyle e^{-1}$"
          },
          "metadata": {},
          "execution_count": 72
        }
      ]
    },
    {
      "cell_type": "markdown",
      "source": [
        "Más sobre aplicaciones de Cálculo con SymPy: https://docs.sympy.org/latest/tutorials/intro-tutorial/calculus.html"
      ],
      "metadata": {
        "id": "2_f-acPICV41"
      }
    },
    {
      "cell_type": "markdown",
      "source": [
        "# ¿Ideas?\n",
        "\n",
        "¿Qué problemas podrías abordar con las herramientas vistas en el curso?\n",
        "- Gráficas\n",
        "- Cálculo simbólico\n",
        "- Optimización y raíces\n",
        "- Cálculo científico\n",
        "\n",
        "Explora con Python tus ideas. Gracias."
      ],
      "metadata": {
        "id": "exxfpGzIDcl0"
      }
    },
    {
      "cell_type": "markdown",
      "source": [
        "# Algunas referencias\n",
        "\n",
        "- https://do1.dr-chuck.com/pythonlearn/ES_es/pythonlearn.pdf (\"Python para todos\" de Charles R. Severance)\n",
        "- https://www2.eii.uva.es/fund_inf/python/notebooks/00_Introduccion/Introduccion.html (\"Fundamentos de Programación en Python\" de Trespaderne, F. M., & Echevarría, R. M.)\n",
        "- https://libcon.rec.uabc.mx:6278/read/9786075380889/index (\"PYTHON CON APLICACIONES A LAS MATEMÁTICAS, INGENIERÍA Y FINANZAS\" de BÁEZ LÓPEZ, David; CERVANTES VILLAGÓMEZ, Ofelia; ARÍZAGA SILVA, Juan Antonio ; CASTILLO JUÁREZ, Esteban)\n",
        "- Linge, S., & Langtangen, H. P. (2020). Programming for computations-Python: A gentle introduction to numerical simulations with Python 3.6 (p. 332). Springer Nature.\n",
        "- Turner, P. R., Arildsen, T., & Kavanagh, K. (2018). Applied scientific computing: with Python. Springer.\n",
        "- Sundnes, J. (2020). Introduction to scientific programming with Python (p. 148). Springer Nature.\n",
        "- Erik Christensen, Francisco Javier Blanco-Silva, Sergio J Rojas G, & Sergio J Rojas G (USD). (2015). Learning SciPy for Numerical and Scientific Computing : Quick Solutions to Complex Numerical Problems in Physics, Applied Mathematics, and Science with SciPy: Vol. Second edition. Packt Publishing."
      ],
      "metadata": {
        "id": "qBeVNa56DNFO"
      }
    }
  ]
}