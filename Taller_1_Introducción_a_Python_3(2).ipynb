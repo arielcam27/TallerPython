{
  "nbformat": 4,
  "nbformat_minor": 0,
  "metadata": {
    "colab": {
      "provenance": []
    },
    "kernelspec": {
      "name": "python3",
      "display_name": "Python 3"
    },
    "language_info": {
      "name": "python"
    }
  },
  "cells": [
    {
      "cell_type": "markdown",
      "source": [
        "# Taller 1: Introducción a Python 3\n",
        "***Elaborado por Ariel Camacho***\n",
        "\n",
        "1. Comentarios\n",
        "2. Impresión y ayuda\n",
        "3. Operaciones aritméticas básicas\n",
        "4. Listas, tuplas y `range`\n",
        "5. Operaciones con listas\n",
        "6. Enunciado `if` y condicionales\n",
        "7. Ciclos `for` y `while`\n",
        "\n",
        "---"
      ],
      "metadata": {
        "id": "-z-GOpp9HKk0"
      }
    },
    {
      "cell_type": "markdown",
      "source": [
        "\n",
        "## Sobre Google Colab\n",
        "Iremos explorando los fundamentos de Python usando **Google Colaboratory** (\"Colab\"). Para mayor información de Colab, visite el siguiente enlace: https://research.google.com/colaboratory/intl/es/faq.html\n",
        "\n",
        "Colab es un servicio de Google que nos permite escribir y ejecutar código de Python usando recursos informáticos de Google. En la versión gratuita hay una serie de limitantes, visite el siguiente enlace para conocerlos a detalle: https://research.google.com/colaboratory/intl/es/faq.html#disallowed-activities"
      ],
      "metadata": {
        "id": "YRLkNi4EutSW"
      }
    },
    {
      "cell_type": "markdown",
      "source": [
        "# Introducción a Python 3\n",
        "\n",
        "Python 3 es un lenguaje de programación de alto nivel. Visualmente, se caracteriza por tener una sintaxis limpia y utilizar tabulación para indicar niveles de anidamiento de código. Tim Peters escribió el \"Zen de Python\" (https://peps.python.org/pep-0020/) que aglomera una filosofía general sobre desarrollo de código en este lenguaje de programación, dentro de lo que destaca lo siguiente:\n",
        "*   Explicit is better than implicit.\n",
        "*   Simple is better than complex.\n",
        "\n",
        "Se recomienda consultar el siguiente tutorial oficial de Python 3: https://docs.python.org/es/3/tutorial/"
      ],
      "metadata": {
        "id": "vkxdsuQ5PvkC"
      }
    },
    {
      "cell_type": "markdown",
      "source": [
        "## Comentarios en código\n",
        "\n",
        "Es una buena práctica colocar **comentarios** en partes relevantes de nuestro código para que otras personas o nosotros mismos podamos entenderlo mejor cuando lo veamos en el futuro. Los comentarios no se ejecutarán.\n",
        "\n",
        "Para poner comentarios en línea escribimos `#` seguido a la derecha de un comentario ilustrativo.\n",
        "\n",
        "Para poner un bloque de comentarios escribimos `'''`, luego el comentario y cerramos nuevamente con `'''`."
      ],
      "metadata": {
        "id": "AHxjnjFXRe1z"
      }
    },
    {
      "cell_type": "code",
      "source": [
        "# Este es un comentario en línea\n",
        "\n",
        "''' Comentario '''"
      ],
      "metadata": {
        "colab": {
          "base_uri": "https://localhost:8080/",
          "height": 35
        },
        "id": "uCsJmVNKsRnU",
        "outputId": "3273c156-d526-4705-d687-532c102df80c"
      },
      "execution_count": null,
      "outputs": [
        {
          "output_type": "execute_result",
          "data": {
            "text/plain": [
              "' Comentario '"
            ],
            "application/vnd.google.colaboratory.intrinsic+json": {
              "type": "string"
            }
          },
          "metadata": {},
          "execution_count": 64
        }
      ]
    },
    {
      "cell_type": "markdown",
      "source": [
        "## Tipos elementales de datos\n",
        "\n",
        "Los datos en Python tiene asociado un **tipo**. De los más comunes son:\n",
        "* `str()` corresponde a cadenas, también se puede escribir usando comillas como `'hola'`.\n",
        "* `int()` corresponde a números enteros como 4.\n",
        "* `float()` corresponde a números con punto flotante como 4.13.\n",
        "* `complex()` corresponde a números complejos usando el formato `a+bj` donde a y b son flotantes.\n",
        "\n",
        "Para conocer el tipo de una variable podemos usar el comando `type()`."
      ],
      "metadata": {
        "id": "vXAOLpLDvoN3"
      }
    },
    {
      "cell_type": "code",
      "source": [
        "a = 'Hola mundo'\n",
        "type(a)"
      ],
      "metadata": {
        "colab": {
          "base_uri": "https://localhost:8080/"
        },
        "id": "buCEmStewezO",
        "outputId": "07565e39-aede-47f4-894f-40fb41be20d5"
      },
      "execution_count": null,
      "outputs": [
        {
          "output_type": "execute_result",
          "data": {
            "text/plain": [
              "str"
            ]
          },
          "metadata": {},
          "execution_count": 65
        }
      ]
    },
    {
      "cell_type": "code",
      "source": [
        "b = 4\n",
        "type(b)"
      ],
      "metadata": {
        "colab": {
          "base_uri": "https://localhost:8080/"
        },
        "id": "4IGXTnW2wkaf",
        "outputId": "eebd1dfb-6d7f-4bcc-834b-1ae4e9086c44"
      },
      "execution_count": null,
      "outputs": [
        {
          "output_type": "execute_result",
          "data": {
            "text/plain": [
              "int"
            ]
          },
          "metadata": {},
          "execution_count": 66
        }
      ]
    },
    {
      "cell_type": "code",
      "source": [
        "c = 4.14\n",
        "type(c)"
      ],
      "metadata": {
        "colab": {
          "base_uri": "https://localhost:8080/"
        },
        "id": "P7a2FzTnwnuv",
        "outputId": "9e77bdb1-831b-4744-8fa2-89597b52b979"
      },
      "execution_count": null,
      "outputs": [
        {
          "output_type": "execute_result",
          "data": {
            "text/plain": [
              "float"
            ]
          },
          "metadata": {},
          "execution_count": 67
        }
      ]
    },
    {
      "cell_type": "markdown",
      "source": [
        "Es posible realizar algunas conversiones o \"**casting**\" entre tipos de datos. Por ejemplo, `str(4)` convertirá 4 en la cadena `'4'`."
      ],
      "metadata": {
        "id": "n3YbyMSGyAvy"
      }
    },
    {
      "cell_type": "code",
      "source": [
        "str(int(4))"
      ],
      "metadata": {
        "colab": {
          "base_uri": "https://localhost:8080/",
          "height": 35
        },
        "id": "lY-LdTBmyPUt",
        "outputId": "ae6bfdf5-2b9b-48ca-8254-55ee2f2d912a"
      },
      "execution_count": null,
      "outputs": [
        {
          "output_type": "execute_result",
          "data": {
            "text/plain": [
              "'4'"
            ],
            "application/vnd.google.colaboratory.intrinsic+json": {
              "type": "string"
            }
          },
          "metadata": {},
          "execution_count": 68
        }
      ]
    },
    {
      "cell_type": "code",
      "source": [
        "type(4+1j)"
      ],
      "metadata": {
        "colab": {
          "base_uri": "https://localhost:8080/"
        },
        "id": "H42UiW6FyZVf",
        "outputId": "8f77a6b6-19ee-41a0-f4af-27ed230fcd67"
      },
      "execution_count": null,
      "outputs": [
        {
          "output_type": "execute_result",
          "data": {
            "text/plain": [
              "complex"
            ]
          },
          "metadata": {},
          "execution_count": 69
        }
      ]
    },
    {
      "cell_type": "markdown",
      "source": [
        "## Impresión en Python 3\n",
        "\n",
        "Para imprimir usamos la función `print()` poniendo dentro la cadena o la variable cuyo valor queremos mostrar en pantalla."
      ],
      "metadata": {
        "id": "O6UHQ7aAPqRb"
      }
    },
    {
      "cell_type": "code",
      "source": [
        "# imprimir cadena\n",
        "print(\"hola Python\")"
      ],
      "metadata": {
        "colab": {
          "base_uri": "https://localhost:8080/"
        },
        "id": "OY29Z8-zRVhn",
        "outputId": "74fefdb8-f43f-4d84-9716-311be8896470"
      },
      "execution_count": null,
      "outputs": [
        {
          "output_type": "stream",
          "name": "stdout",
          "text": [
            "hola Python\n"
          ]
        }
      ]
    },
    {
      "cell_type": "code",
      "source": [
        "x = 34\n",
        "\n",
        "# imprimir el valor asignado a x\n",
        "print(x)"
      ],
      "metadata": {
        "colab": {
          "base_uri": "https://localhost:8080/"
        },
        "id": "d7Pn0T1GQ7DD",
        "outputId": "9087b314-055d-46e4-b56b-07cf5f87438f"
      },
      "execution_count": null,
      "outputs": [
        {
          "output_type": "stream",
          "name": "stdout",
          "text": [
            "34\n"
          ]
        }
      ]
    },
    {
      "cell_type": "markdown",
      "source": [
        "Hay opciones para hacer impresiones con cierto formato específico. Una opción es mediante `f` seguido de la cadena junto con el uso de `{expresiones}`. Por ejemplo, si se quisieran mostrar números flotantes usando solamente dos decimales usaríamos `{:.2f}`."
      ],
      "metadata": {
        "id": "iJEdYi9kwtzG"
      }
    },
    {
      "cell_type": "code",
      "source": [
        "a = 1900.2345\n",
        "b = 3.1415\n",
        "c = -45.543\n",
        "print(f'Flotantes a dos decimales: {a:.2f}, {b:.2f}, {c:.2f}')"
      ],
      "metadata": {
        "colab": {
          "base_uri": "https://localhost:8080/"
        },
        "id": "JEbuSeYHtR7W",
        "outputId": "d916f3d8-0cdf-4e51-c2c3-9de30e0b089a"
      },
      "execution_count": null,
      "outputs": [
        {
          "output_type": "stream",
          "name": "stdout",
          "text": [
            "Flotantes a dos decimales: 1900.23, 3.14, -45.54\n"
          ]
        }
      ]
    },
    {
      "cell_type": "markdown",
      "source": [
        "Para mayor información sobre el uso de formatos se pueden consultar las siguientes fuentes:\n",
        "* https://docs.python.org/es/3/tutorial/inputoutput.html\n",
        "* https://docs.python.org/es/3/library/string.html#formatstrings"
      ],
      "metadata": {
        "id": "oWrmz-qA0klw"
      }
    },
    {
      "cell_type": "markdown",
      "source": [
        "### *Ejercicio.* Practicar impresión con formato\n",
        "\n",
        "Declare la variable `pi = 3.14159`. Después, use `print` con formato para imprimir `El número pi redondeado a dos decimales es 3.14` usando `pi`, es decir, no escriba directamente `3.14` en la cadena."
      ],
      "metadata": {
        "id": "MX5oMgfXsL9f"
      }
    },
    {
      "cell_type": "code",
      "source": [
        "# descomente y complete\n",
        "\n",
        "# pi = ...\n",
        "# print(f\"...\")"
      ],
      "metadata": {
        "id": "zYaL47lfst0W"
      },
      "execution_count": null,
      "outputs": []
    },
    {
      "cell_type": "markdown",
      "source": [
        "## Ayuda en Python\n",
        "\n",
        "Siempre es recomendable revisar la documentación oficial de cualquier función o librería que se utilice. En ocasiones, nos será posible obtener una descripción de determinada función usando el comando `help`."
      ],
      "metadata": {
        "id": "Z0_QGN0X38Zl"
      }
    },
    {
      "cell_type": "code",
      "source": [
        "help(print)"
      ],
      "metadata": {
        "colab": {
          "base_uri": "https://localhost:8080/"
        },
        "id": "sVw4S7tR4M_I",
        "outputId": "f74349bb-6ef9-452a-9f0f-2bcbd778e6af"
      },
      "execution_count": null,
      "outputs": [
        {
          "output_type": "stream",
          "name": "stdout",
          "text": [
            "Help on built-in function print in module builtins:\n",
            "\n",
            "print(...)\n",
            "    print(value, ..., sep=' ', end='\\n', file=sys.stdout, flush=False)\n",
            "    \n",
            "    Prints the values to a stream, or to sys.stdout by default.\n",
            "    Optional keyword arguments:\n",
            "    file:  a file-like object (stream); defaults to the current sys.stdout.\n",
            "    sep:   string inserted between values, default a space.\n",
            "    end:   string appended after the last value, default a newline.\n",
            "    flush: whether to forcibly flush the stream.\n",
            "\n"
          ]
        }
      ]
    },
    {
      "cell_type": "markdown",
      "source": [
        "En este caso, podemos observar que los argumentos de `print` incluyen el valor a imprimir `value`, incluye un separador entre valores dado por `sep`, y por default se incluirá un salto de línea dado por `end='\\n'`. De este modo, vemos que si en lugar de generar un salto de línea podríamos terminar con un punto y un espacio, por ejemplo."
      ],
      "metadata": {
        "id": "uKIr4bS_tPU6"
      }
    },
    {
      "cell_type": "code",
      "source": [
        "# usando print con otra terminación\n",
        "print(\"Esta es una oración\", end='. ')\n",
        "print(\"Esta es una segunda oración.\")"
      ],
      "metadata": {
        "colab": {
          "base_uri": "https://localhost:8080/"
        },
        "id": "ExE8ch-ltmrQ",
        "outputId": "23cd0f87-1343-4ab8-f7fa-2517899d68dc"
      },
      "execution_count": null,
      "outputs": [
        {
          "output_type": "stream",
          "name": "stdout",
          "text": [
            "Esta es una oración. Esta es una segunda oración.\n"
          ]
        }
      ]
    },
    {
      "cell_type": "markdown",
      "source": [
        "## Introducción a cadenas\n",
        "\n",
        "En ocasiones deseamos imprimir cadenas que contengan cierto texto específico y que en cierta porción incluyamos el valor de cierta variable. Podemos **concatenar** dos cadenas utilizando el símbolo `+`."
      ],
      "metadata": {
        "id": "4TwLHC091JXL"
      }
    },
    {
      "cell_type": "code",
      "source": [
        "cadena1 = \"hola\"\n",
        "cadena2 = \"mundo\"\n",
        "cadena3 = cadena1 + cadena2\n",
        "print(cadena3)"
      ],
      "metadata": {
        "colab": {
          "base_uri": "https://localhost:8080/"
        },
        "id": "u6rh0oM64Ki4",
        "outputId": "323083e7-419f-40ed-b60b-60f95cb83abe"
      },
      "execution_count": null,
      "outputs": [
        {
          "output_type": "stream",
          "name": "stdout",
          "text": [
            "holamundo\n"
          ]
        }
      ]
    },
    {
      "cell_type": "markdown",
      "source": [
        "Si tenemos un número, podríamos hacer casting para concatenar en una cadena dada."
      ],
      "metadata": {
        "id": "8ANwSguwuB7F"
      }
    },
    {
      "cell_type": "code",
      "source": [
        "edad = 50\n",
        "print('Mi hermano tiene ' + str(edad) + ' monedas.')"
      ],
      "metadata": {
        "colab": {
          "base_uri": "https://localhost:8080/"
        },
        "id": "kzLn9_MT4fSX",
        "outputId": "f6bb6b4f-a1cc-4e89-c10d-8b5e07f76683"
      },
      "execution_count": null,
      "outputs": [
        {
          "output_type": "stream",
          "name": "stdout",
          "text": [
            "Mi hermano tiene 50 monedas.\n"
          ]
        }
      ]
    },
    {
      "cell_type": "code",
      "source": [
        "print(f'Mi hermano tiene {edad} monedas.')"
      ],
      "metadata": {
        "colab": {
          "base_uri": "https://localhost:8080/"
        },
        "id": "PK-kEDDAuK20",
        "outputId": "59cede8c-50a2-40ad-87f9-6abaa935ff43"
      },
      "execution_count": null,
      "outputs": [
        {
          "output_type": "stream",
          "name": "stdout",
          "text": [
            "Mi hermano tiene 50 monedas.\n"
          ]
        }
      ]
    },
    {
      "cell_type": "markdown",
      "source": [
        "Dada una cadena, podemos usar el comando `len` para conocer la longitud de la misma."
      ],
      "metadata": {
        "id": "slCrioqHu-r8"
      }
    },
    {
      "cell_type": "code",
      "source": [
        "cadena1 = 'algoritmo'\n",
        "\n",
        "print(f\"La palabra {cadena1} tiene {len(cadena1)} caracteres.\")"
      ],
      "metadata": {
        "colab": {
          "base_uri": "https://localhost:8080/"
        },
        "id": "idexzQQCvIPk",
        "outputId": "276afcb6-3c08-4dc4-de0c-a90803657280"
      },
      "execution_count": null,
      "outputs": [
        {
          "output_type": "stream",
          "name": "stdout",
          "text": [
            "La palabra algoritmo tiene 9 caracteres.\n"
          ]
        }
      ]
    },
    {
      "cell_type": "markdown",
      "source": [
        "Las cadenas en Python cuentan con varios métodos útiles para diversas situaciones, como unir toda una lista de cadenas o poner todas las letras en mayúsculas. Pueden consultar la documentación en el siguiente enlace para conocer esas interesantes funcionalidades:\n",
        "* https://docs.python.org/3/library/stdtypes.html#string-methods"
      ],
      "metadata": {
        "id": "Eybqr2b4ze3_"
      }
    },
    {
      "cell_type": "markdown",
      "source": [
        "---"
      ],
      "metadata": {
        "id": "fRHLXde4vmKr"
      }
    },
    {
      "cell_type": "markdown",
      "source": [
        "# Operaciones aritméticas básicas en Python 3\n",
        "\n",
        "Las operaciones aritméticas entre números se realizan con los siguientes símbolos en Python 3:\n",
        "\n",
        "- Suma y resta: `+, -`\n",
        "- Multiplicación y división: `*, /`\n",
        "- Exponenciación: `**` (cuidado entre `*` y `**`)\n",
        "- Valor absoluto: `abs()`\n"
      ],
      "metadata": {
        "id": "eZ-cR3XgRaPq"
      }
    },
    {
      "cell_type": "markdown",
      "source": [
        "**Ejemplo.** Imaginemos que queremos calcular $|3a-2b^4 + 0.5|/40$ donde $a=2$ y $b=3$."
      ],
      "metadata": {
        "id": "REUzZu0d9vDf"
      }
    },
    {
      "cell_type": "code",
      "source": [
        "a = 2\n",
        "b = 3\n",
        "resultado = abs(3*a - 2*b**4 + 0.5) / 40\n",
        "\n",
        "print( resultado )"
      ],
      "metadata": {
        "colab": {
          "base_uri": "https://localhost:8080/"
        },
        "id": "CvIcLOJDUxo9",
        "outputId": "f518619d-d8b0-40d2-e8c8-1a2f1f3f04a4"
      },
      "execution_count": null,
      "outputs": [
        {
          "output_type": "stream",
          "name": "stdout",
          "text": [
            "3.8875\n"
          ]
        }
      ]
    },
    {
      "cell_type": "markdown",
      "source": [
        "Como comentario: la suma de dos `int` en Python da como resultado un `int`. Al sumar un `int` con un `float`, el resultado es un `float`. Esto es de destacarse pues en Python 2 la convención era que `int`+`float` daba `int`."
      ],
      "metadata": {
        "id": "5DDVtcmA0Ndx"
      }
    },
    {
      "cell_type": "code",
      "source": [
        "print( type(2+3) )\n",
        "print( type(2+3.0) )"
      ],
      "metadata": {
        "colab": {
          "base_uri": "https://localhost:8080/"
        },
        "id": "WHZc6V0h0euH",
        "outputId": "94f418ba-614c-41dc-95ba-f85b3adfee00"
      },
      "execution_count": null,
      "outputs": [
        {
          "output_type": "stream",
          "name": "stdout",
          "text": [
            "<class 'int'>\n",
            "<class 'float'>\n"
          ]
        }
      ]
    },
    {
      "cell_type": "markdown",
      "source": [
        "## Paquetería `math`"
      ],
      "metadata": {
        "id": "6TdYuOUm1diI"
      }
    },
    {
      "cell_type": "markdown",
      "source": [
        "Para realizar otras operaciones y constantes especiales necesitaremos otros módulos como `math`. Para importar el módulo debemos ejecutar primero `import math`, y para usar sus atributos y métodos necesitaremos escribir `math.` seguido del atributo o método."
      ],
      "metadata": {
        "id": "yP6wKtv89F1Y"
      }
    },
    {
      "cell_type": "code",
      "source": [
        "# importando el módulo \"math\" para usar sus funciones\n",
        "import math"
      ],
      "metadata": {
        "id": "wTtQtvyPTUsM"
      },
      "execution_count": null,
      "outputs": []
    },
    {
      "cell_type": "markdown",
      "source": [
        "Algunas de las funciones y constantes incluídas en `math` son las siguientes:\n",
        "\n",
        "|método|descripción|\n",
        "|---|---|\n",
        "|math.sqrt()|raíz cuadrada|\n",
        "|math.exp()|función exponencial|\n",
        "|math.log()|logaritmo natural|\n",
        "|math.log10()|logaritmo base 10|\n",
        "|math.sin()|función seno|\n",
        "|math.cos()|función coseno|\n",
        "|math.asin()|función arcoseno|\n",
        "|math.acos()|función arcocoseno|\n",
        "|math.tan()|función tangente|\n",
        "|math.floor()|función piso|\n",
        "|math.ceil()|función techo|\n",
        "|math.factorial()|factorial|\n",
        "\n",
        "|atributo|descripción|\n",
        "|---|---|\n",
        "|math.pi|número $\\pi$|\n",
        "|math.e|número $e$|"
      ],
      "metadata": {
        "id": "DZe9nxYJ2uzf"
      }
    },
    {
      "cell_type": "code",
      "source": [
        "help(math.sqrt)"
      ],
      "metadata": {
        "colab": {
          "base_uri": "https://localhost:8080/"
        },
        "id": "_ThJRMIs4Pim",
        "outputId": "9f09f82e-3470-4c10-fa8e-615f2b85d9c8"
      },
      "execution_count": null,
      "outputs": [
        {
          "output_type": "stream",
          "name": "stdout",
          "text": [
            "Help on built-in function sqrt in module math:\n",
            "\n",
            "sqrt(x, /)\n",
            "    Return the square root of x.\n",
            "\n"
          ]
        }
      ]
    },
    {
      "cell_type": "markdown",
      "source": [
        "Para mayores detalles de la librería `math`, se puede revisar la documentación: https://docs.python.org/3/library/math.html"
      ],
      "metadata": {
        "id": "_IQPhGQY_Wc8"
      }
    },
    {
      "cell_type": "code",
      "source": [
        "# raíz cuadrada de x=2\n",
        "x=2\n",
        "print(math.sqrt(x))"
      ],
      "metadata": {
        "colab": {
          "base_uri": "https://localhost:8080/"
        },
        "id": "f8PKePwkUGMw",
        "outputId": "bb36b0fb-be4c-40c0-a5db-e39c5be8fe37"
      },
      "execution_count": null,
      "outputs": [
        {
          "output_type": "stream",
          "name": "stdout",
          "text": [
            "1.4142135623730951\n"
          ]
        }
      ]
    },
    {
      "cell_type": "code",
      "source": [
        "help(math.cos)"
      ],
      "metadata": {
        "colab": {
          "base_uri": "https://localhost:8080/"
        },
        "id": "grq2vCwR15SE",
        "outputId": "66cd4777-7f32-441b-d5c1-56d8d9719fca"
      },
      "execution_count": null,
      "outputs": [
        {
          "output_type": "stream",
          "name": "stdout",
          "text": [
            "Help on built-in function cos in module math:\n",
            "\n",
            "cos(x, /)\n",
            "    Return the cosine of x (measured in radians).\n",
            "\n"
          ]
        }
      ]
    },
    {
      "cell_type": "code",
      "source": [
        "print( math.cos(math.pi/3) )"
      ],
      "metadata": {
        "colab": {
          "base_uri": "https://localhost:8080/"
        },
        "id": "ZFY0hrBnUMVl",
        "outputId": "c3431505-2c60-47f5-cd34-28e90fce8760"
      },
      "execution_count": null,
      "outputs": [
        {
          "output_type": "stream",
          "name": "stdout",
          "text": [
            "0.5000000000000001\n"
          ]
        }
      ]
    },
    {
      "cell_type": "markdown",
      "source": [
        "### *Ejercicio:* Determinar el ángulo\n",
        "\n",
        "1. Use `help` para conocer un poco sobre la función `acos` del módulo `math`.\n",
        "2. Use la función `acos` del módulo `math` para encontrar el ángulo $\\alpha$ en grados tal que $\\cos(\\alpha)=1/2$."
      ],
      "metadata": {
        "id": "KwXiQs-p2ys6"
      }
    },
    {
      "cell_type": "code",
      "source": [
        "# help( ... )\n",
        "# ...\n",
        "\n",
        "# salida esperada: algo cercano a 60"
      ],
      "metadata": {
        "id": "_hmxes2M38r1"
      },
      "execution_count": null,
      "outputs": []
    },
    {
      "cell_type": "markdown",
      "source": [
        "---"
      ],
      "metadata": {
        "id": "eb25wDl440y8"
      }
    },
    {
      "cell_type": "markdown",
      "source": [
        "# Listas y tuplas\n",
        "\n",
        "En Python 3 tenemos dos estructuras de datos básicas:\n",
        "1. **Listas:** son \"mutables\", es decir, es posible modificarlos una vez que han sido creados. Se usan paréntesis cuadrados `[ ]` para declararlos, poniendo dentro sus elementos.\n",
        "2. **Tuplas:** son \"inmutables\", no se pueden modificar una vez creados. Se usan paréntesis normales `( )`."
      ],
      "metadata": {
        "id": "HoWJc-C-Uklt"
      }
    },
    {
      "cell_type": "code",
      "source": [
        "lista1 = [3,2,1,4] # lista\n",
        "tupla1 = (5,2,3,2) # tupla"
      ],
      "metadata": {
        "id": "-__ZhnYqVsPd"
      },
      "execution_count": null,
      "outputs": []
    },
    {
      "cell_type": "code",
      "source": [
        "print( type(lista1) )\n",
        "print( type(tupla1) )"
      ],
      "metadata": {
        "colab": {
          "base_uri": "https://localhost:8080/"
        },
        "id": "KdhdHPKKVwNq",
        "outputId": "c0467031-e606-4f36-da39-86bfd8b6dfe7"
      },
      "execution_count": null,
      "outputs": [
        {
          "output_type": "stream",
          "name": "stdout",
          "text": [
            "<class 'list'>\n",
            "<class 'tuple'>\n"
          ]
        }
      ]
    },
    {
      "cell_type": "markdown",
      "source": [
        "Así como con las cadenas, es posible usar `len` para saber cuántos elementos tiene una lista o una tupla."
      ],
      "metadata": {
        "id": "ax1AG9Mb67Xm"
      }
    },
    {
      "cell_type": "code",
      "source": [
        "print(len(lista1), len(tupla1))"
      ],
      "metadata": {
        "colab": {
          "base_uri": "https://localhost:8080/"
        },
        "id": "KVcJoo-i6_7s",
        "outputId": "846df804-c29e-4502-ae4f-0e9acdbf3c4d"
      },
      "execution_count": null,
      "outputs": [
        {
          "output_type": "stream",
          "name": "stdout",
          "text": [
            "4 4\n"
          ]
        }
      ]
    },
    {
      "cell_type": "markdown",
      "source": [
        "## Índices"
      ],
      "metadata": {
        "id": "eIRX2HJ85BAh"
      }
    },
    {
      "cell_type": "markdown",
      "source": [
        "Para acceder a un elemento de una lista o tupla usamos `variable[índice]`. En Python, **el primer índice es 0**."
      ],
      "metadata": {
        "id": "1C3oxQIrV1nP"
      }
    },
    {
      "cell_type": "code",
      "source": [
        "print( lista1[0] ) # primer elemento de lista1\n",
        "print( tupla1[3] ) # cuarto elemento de tupla1"
      ],
      "metadata": {
        "colab": {
          "base_uri": "https://localhost:8080/"
        },
        "id": "ivjY5IbsWG7x",
        "outputId": "0ee79521-076f-4648-e044-21a499c7fe70"
      },
      "execution_count": null,
      "outputs": [
        {
          "output_type": "stream",
          "name": "stdout",
          "text": [
            "3\n",
            "2\n"
          ]
        }
      ]
    },
    {
      "cell_type": "markdown",
      "source": [
        "Podemos usar índices negativos para \"ir de derecha a izquierda\". Así, el índice `-1` nos da el último elemento de la lista o tupla."
      ],
      "metadata": {
        "id": "xXtPsE8-WSeB"
      }
    },
    {
      "cell_type": "code",
      "source": [
        "print( lista1[-1] ) # último elemento de lista1\n",
        "print( tupla1[-2] ) # penúltimo elemento de tupla1"
      ],
      "metadata": {
        "colab": {
          "base_uri": "https://localhost:8080/"
        },
        "id": "8Gw-AzYBWftq",
        "outputId": "b7e667d9-5b17-4109-e661-7baf4b565432"
      },
      "execution_count": null,
      "outputs": [
        {
          "output_type": "stream",
          "name": "stdout",
          "text": [
            "4\n",
            "3\n"
          ]
        }
      ]
    },
    {
      "cell_type": "markdown",
      "source": [
        "## Modificando listas"
      ],
      "metadata": {
        "id": "2VPeh7es60rX"
      }
    },
    {
      "cell_type": "markdown",
      "source": [
        "Es posible modificar (reasignar valores) a elementos específicos de listas. Para ello hacemos una declaración usual como lo haríamos con otras variables."
      ],
      "metadata": {
        "id": "cptKfr_QsMCo"
      }
    },
    {
      "cell_type": "code",
      "source": [
        "lista2 = [3,6,7,8,3]\n",
        "lista2[2] = -4 # asignar -4 a a7[2]\n",
        "print(lista2)"
      ],
      "metadata": {
        "colab": {
          "base_uri": "https://localhost:8080/"
        },
        "id": "5E_hNDBJsdDE",
        "outputId": "7aeaed03-e52a-40ab-d551-2969393a573f"
      },
      "execution_count": null,
      "outputs": [
        {
          "output_type": "stream",
          "name": "stdout",
          "text": [
            "[3, 6, -4, 8, 3]\n"
          ]
        }
      ]
    },
    {
      "cell_type": "markdown",
      "source": [
        "Al intentar hacer esto con tuplas, obtendremos un error pues las tuplas son inmutables."
      ],
      "metadata": {
        "id": "9J-G4E9l7ef4"
      }
    },
    {
      "cell_type": "code",
      "source": [
        "# a2[0] = 0"
      ],
      "metadata": {
        "id": "qtatVPsV7meu"
      },
      "execution_count": null,
      "outputs": []
    },
    {
      "cell_type": "markdown",
      "source": [
        "```\n",
        "---------------------------------------------------------------------------\n",
        "\n",
        "TypeError                                 Traceback (most recent call last)\n",
        "\n",
        "<ipython-input-16-402f04ae8eda> in <cell line: 1>()\n",
        "----> 1 a2[0] = 0\n",
        "\n",
        "TypeError: 'tuple' object does not support item assignment\n",
        "```"
      ],
      "metadata": {
        "id": "4e0LzCmY-jsf"
      }
    },
    {
      "cell_type": "markdown",
      "source": [
        "### Slicing"
      ],
      "metadata": {
        "id": "w0WFXILd5bXm"
      }
    },
    {
      "cell_type": "markdown",
      "source": [
        "Podemos usar \"**slicing**\" para tomar partes de una lista o tupla. El formato es `variable[a:b]` donde a y b son índices permitidos con `a<b`. El resultado tomará desde el índice a hasta el índice b-1. ***Observe que no tomará hasta el índice b sino hasta uno antes***.\n"
      ],
      "metadata": {
        "id": "DUgpNhIaWjpg"
      }
    },
    {
      "cell_type": "code",
      "source": [
        "# Objetivo: imprimir primeros dos elementos de lista1\n",
        "print( lista1[0:2] )"
      ],
      "metadata": {
        "colab": {
          "base_uri": "https://localhost:8080/"
        },
        "id": "_Gza1WwHW90X",
        "outputId": "87e94a38-2e6d-4872-aae9-55c855486274"
      },
      "execution_count": null,
      "outputs": [
        {
          "output_type": "stream",
          "name": "stdout",
          "text": [
            "[3, 2]\n"
          ]
        }
      ]
    },
    {
      "cell_type": "code",
      "source": [
        "# objetivo: imprimir elementos 2do,3ro, y 4to de tupla1\n",
        "print( tupla1[1:4] )"
      ],
      "metadata": {
        "colab": {
          "base_uri": "https://localhost:8080/"
        },
        "id": "BLvNDW2YXRKS",
        "outputId": "91a7f146-bcb7-4716-cfef-ccb4187b968e"
      },
      "execution_count": null,
      "outputs": [
        {
          "output_type": "stream",
          "name": "stdout",
          "text": [
            "(2, 3, 2)\n"
          ]
        }
      ]
    },
    {
      "cell_type": "markdown",
      "source": [
        "Hay un tipo especial en Python 3 llamado **range**. Pueden pensarlo como una lista aunque en realidad no lo sea. Es útil para realizar ciclos `for`.\n",
        "\n",
        "Su formato es `range(n)` donde n es un entero positivo, y lo podemos imaginar como \"la lista $(0,1,...,n-1)$\" aunque en realidad no lo sea."
      ],
      "metadata": {
        "id": "4tAoFSw7YraX"
      }
    },
    {
      "cell_type": "code",
      "source": [
        "miRango = range(5) # una \"lista\" desde 0 hasta 4\n",
        "type(miRango)"
      ],
      "metadata": {
        "id": "5RpAt15vXb3I",
        "colab": {
          "base_uri": "https://localhost:8080/"
        },
        "outputId": "5ac1e54c-d2eb-428c-98e8-da8e965ff056"
      },
      "execution_count": null,
      "outputs": [
        {
          "output_type": "execute_result",
          "data": {
            "text/plain": [
              "range"
            ]
          },
          "metadata": {},
          "execution_count": 119
        }
      ]
    },
    {
      "cell_type": "markdown",
      "source": [
        "## Agregando y quitando elementos a una lista"
      ],
      "metadata": {
        "id": "nJfRaYHY7NPA"
      }
    },
    {
      "cell_type": "markdown",
      "source": [
        "Para agregar elementos al final de una lista, se puede usar `+` ó `append`."
      ],
      "metadata": {
        "id": "O2x6SjERrhdN"
      }
    },
    {
      "cell_type": "code",
      "source": [
        "lista3 = [1]\n",
        "lista3.append(4) # agregar 4 al final de a9\n",
        "print(lista3)"
      ],
      "metadata": {
        "colab": {
          "base_uri": "https://localhost:8080/"
        },
        "id": "OtgC1yI5rqpC",
        "outputId": "74313085-9089-4b14-c3ef-93c94797dd02"
      },
      "execution_count": null,
      "outputs": [
        {
          "output_type": "stream",
          "name": "stdout",
          "text": [
            "[1, 4]\n"
          ]
        }
      ]
    },
    {
      "cell_type": "code",
      "source": [
        "lista3 = [1]\n",
        "lista3 = lista3 + [4] # agregar 4 al final de a8, y reasignar a a8\n",
        "print(a8)"
      ],
      "metadata": {
        "colab": {
          "base_uri": "https://localhost:8080/"
        },
        "id": "HwVlG_2Cr5kM",
        "outputId": "66f3c507-69ba-4b86-832f-3b108a2171bc"
      },
      "execution_count": null,
      "outputs": [
        {
          "output_type": "stream",
          "name": "stdout",
          "text": [
            "[3, 4]\n"
          ]
        }
      ]
    },
    {
      "cell_type": "markdown",
      "source": [
        "Para las tuplas no es posible agregar o quitar elementos. Se debería hacer una tupla diferente."
      ],
      "metadata": {
        "id": "HUa3P3LF7vZi"
      }
    },
    {
      "cell_type": "markdown",
      "source": [
        "Para quitar elementos de una lista podemos usar `remove` o `pop`."
      ],
      "metadata": {
        "id": "MH5yIeg-7mj1"
      }
    },
    {
      "cell_type": "code",
      "source": [
        "help(list.remove)"
      ],
      "metadata": {
        "colab": {
          "base_uri": "https://localhost:8080/"
        },
        "id": "PWWOiTtX7qrv",
        "outputId": "86c8e705-d746-4e3b-a9b5-a2e09f38a227"
      },
      "execution_count": null,
      "outputs": [
        {
          "output_type": "stream",
          "name": "stdout",
          "text": [
            "Help on method_descriptor:\n",
            "\n",
            "remove(self, value, /)\n",
            "    Remove first occurrence of value.\n",
            "    \n",
            "    Raises ValueError if the value is not present.\n",
            "\n"
          ]
        }
      ]
    },
    {
      "cell_type": "code",
      "source": [
        "help(list.pop)"
      ],
      "metadata": {
        "colab": {
          "base_uri": "https://localhost:8080/"
        },
        "id": "e9tmcpNL7tMa",
        "outputId": "3b004728-56de-45cf-b9c6-03668147ccab"
      },
      "execution_count": null,
      "outputs": [
        {
          "output_type": "stream",
          "name": "stdout",
          "text": [
            "Help on method_descriptor:\n",
            "\n",
            "pop(self, index=-1, /)\n",
            "    Remove and return item at index (default last).\n",
            "    \n",
            "    Raises IndexError if list is empty or index is out of range.\n",
            "\n"
          ]
        }
      ]
    },
    {
      "cell_type": "code",
      "source": [
        "lstNombres = [\"Ana\", \"Beto\", \"Carla\", \"Diego\"]\n",
        "lstNombres.remove(\"Beto\") # eliminará a \"Beto\" de la lista\n",
        "print( lstNombres )"
      ],
      "metadata": {
        "colab": {
          "base_uri": "https://localhost:8080/"
        },
        "id": "3jxPFvzj7ye2",
        "outputId": "0259cb55-05b9-4dcd-ac5c-caae29b75228"
      },
      "execution_count": null,
      "outputs": [
        {
          "output_type": "stream",
          "name": "stdout",
          "text": [
            "['Ana', 'Carla', 'Diego']\n"
          ]
        }
      ]
    },
    {
      "cell_type": "code",
      "source": [
        "lstNombres = [\"Ana\", \"Beto\", \"Carla\", \"Diego\"]\n",
        "lstNombres.pop(2) # eliminará a \"Carla\" de la lista\n",
        "print( lstNombres )"
      ],
      "metadata": {
        "colab": {
          "base_uri": "https://localhost:8080/"
        },
        "id": "dYEBB1UU8Dlr",
        "outputId": "59008fdb-e0e6-45b7-a029-0c08f285f9eb"
      },
      "execution_count": null,
      "outputs": [
        {
          "output_type": "stream",
          "name": "stdout",
          "text": [
            "['Ana', 'Beto', 'Diego']\n"
          ]
        }
      ]
    },
    {
      "cell_type": "markdown",
      "source": [
        "Hay mucho más que explorar sobre listas, como **ordenar**, **insertar** e incluso la gran herramienta de **comprensión de listas**. Se invita a continuar revisando fuentes como la documentación oficial: https://docs.python.org/3/tutorial/datastructures.html"
      ],
      "metadata": {
        "id": "bJEUGT-f8TV7"
      }
    },
    {
      "cell_type": "markdown",
      "source": [
        "### *Ejercicio.* Practicando con listas\n",
        "\n",
        "1. Haga una lista `lstFibo` que tenga a los elementos `1, 1, 2, 3`.\n",
        "2. Use `append` ó `+` junto con el uso de índices negativos para agregar la suma de los últimos dos elementos de la lista.\n",
        "3. Repite el paso anterior.\n",
        "4. Imprima el total de elementos que tiene `lstFibo`.\n",
        "5. Use slicing para imprimir los últimos tres elementos de la lista."
      ],
      "metadata": {
        "id": "3DO2SOUJ9G2i"
      }
    },
    {
      "cell_type": "markdown",
      "source": [
        "---"
      ],
      "metadata": {
        "id": "i6EeXELa8yA9"
      }
    },
    {
      "cell_type": "markdown",
      "source": [
        "# Condicionales\n",
        "\n",
        "Hay un tipo de variable para **booleanos** dado por `bool()`. Puede tener dos posibles valores: `True` o `False`, que tienen como equivalencia los valores respectivos de 1 ó 0.\n",
        "\n",
        "## Conectores lógicos\n",
        "\n",
        "Los conectores lógicos básicos en Python son `not`, `and` y `or`, los cuales siguen las mismas reglas que en lógica. Por ejemplo, `True and False` es `False`, mientras que `True or False` es `True`."
      ],
      "metadata": {
        "id": "NJY_VLBSE6OB"
      }
    },
    {
      "cell_type": "code",
      "source": [
        "not(True and (False or False))"
      ],
      "metadata": {
        "colab": {
          "base_uri": "https://localhost:8080/"
        },
        "id": "3W2PAtKkFBcN",
        "outputId": "9a1a7629-2b7c-4bbf-9faf-59e5d1601849"
      },
      "execution_count": null,
      "outputs": [
        {
          "output_type": "execute_result",
          "data": {
            "text/plain": [
              "True"
            ]
          },
          "metadata": {},
          "execution_count": 99
        }
      ]
    },
    {
      "cell_type": "markdown",
      "source": [
        "## Comparaciones\n",
        "\n",
        "Es habitual necesitar identificar casos para ejecutar código específico para cada uno de ellos. En particular, estos casos suelen ser de los siguientes tipos:\n",
        "1. **Igualdad:** `a == b`\n",
        "2. **No igualdad:** `a != b`\n",
        "3. **Mayor o menor:** `a < b`, `a > b`, `a <= b`, `a >= b`\n",
        "3. **Pertenece:** `a in LISTA`"
      ],
      "metadata": {
        "id": "_o6-0E7hWWwT"
      }
    },
    {
      "cell_type": "code",
      "source": [
        "miLista = [0, 1, 2, 0]\n",
        "\n",
        "bool1 = miLista[0] == miLista[1]\n",
        "bool2 = miLista[0] == miLista[-1]\n",
        "bool3 = 3 in miLista\n",
        "bool4 = 2.0 in miLista\n",
        "\n",
        "print(bool1, bool2, bool3, bool4)"
      ],
      "metadata": {
        "colab": {
          "base_uri": "https://localhost:8080/"
        },
        "id": "ZMLNl6dNXEl1",
        "outputId": "5e323790-5b99-4f93-bedb-559d0679e05b"
      },
      "execution_count": null,
      "outputs": [
        {
          "output_type": "stream",
          "name": "stdout",
          "text": [
            "False True False True\n"
          ]
        }
      ]
    },
    {
      "cell_type": "markdown",
      "source": [
        "## Enunciados \"if\"\n",
        "\n",
        "El esquema básico para utilizar `if` en Python es el siguiente:\n",
        "\n",
        "\n",
        "```\n",
        "if (condicional):\n",
        "  código         # <- observe indentación\n",
        "```\n",
        "\n",
        "**Nota:** En Python 3 se usan **indentaciones** (como cuando se presiona la tecla Tab) para anidar código subordinado. Así, justo debajo de `if ... :` la siguiente línea debe iniciar con una indentación presionando la tecla Tab y luego ya se escribe el código a ejecutarse dentro del enunciado `if`. En caso de querer más de una línea de código dentro del enunciado `if` lo importante es **mantener el mismo nivel de indentanción**. Si se reduce el nivel de indentación saldremos del enunciado `if`."
      ],
      "metadata": {
        "id": "9rFFguXKVKTB"
      }
    },
    {
      "cell_type": "code",
      "source": [
        "# en este caso entrará al \"if\"\n",
        "palabra1 = \"algoritmo\"\n",
        "\n",
        "if len(palabra1) > 8:\n",
        "  print(f\"la palabra \\'{palabra1}\\' es muy larga\")\n",
        "\n",
        "# en este segundo caso no entrará al \"if\"\n",
        "palabra2 = \"derivada\"\n",
        "\n",
        "if len(palabra2) > 8:\n",
        "  print(f\"la palabra \\'{palabra2}\\' es muy larga\")"
      ],
      "metadata": {
        "colab": {
          "base_uri": "https://localhost:8080/"
        },
        "id": "7ei2v2CZVZJZ",
        "outputId": "b812d7b9-a840-4cc5-c168-539b19fcac6c"
      },
      "execution_count": null,
      "outputs": [
        {
          "output_type": "stream",
          "name": "stdout",
          "text": [
            "la palabra 'algoritmo' es muy larga\n"
          ]
        }
      ]
    },
    {
      "cell_type": "markdown",
      "source": [
        "# Ciclos `for` y `while`\n",
        "\n",
        "Los ciclos básicos son `for` y `while`. Para `for` uno de sus formatos básicos es:\n",
        "~~~\n",
        "for (variable) in (range, lista o tupla):\n",
        "  código\n",
        "~~~\n",
        "\n"
      ],
      "metadata": {
        "id": "i4mScbm3XjXf"
      }
    },
    {
      "cell_type": "code",
      "source": [
        "# objetivo: imprimir los números del 0 al 10\n",
        "\n",
        "for contador in range(11):\n",
        "  print(f\"{contador}, \", end='')"
      ],
      "metadata": {
        "colab": {
          "base_uri": "https://localhost:8080/"
        },
        "id": "DZL-euMbqAv0",
        "outputId": "8d471ad5-dd53-4a49-8109-0a6e7f1adb1b"
      },
      "execution_count": null,
      "outputs": [
        {
          "output_type": "stream",
          "name": "stdout",
          "text": [
            "0, 1, 2, 3, 4, 5, 6, 7, 8, 9, 10, "
          ]
        }
      ]
    },
    {
      "cell_type": "markdown",
      "source": [
        "Para `while` tenemos la plantilla:\n",
        "~~~\n",
        "while (condicion):\n",
        "  código\n",
        "~~~\n",
        "\n",
        "Hay que procurar actualizar la variable de la condición de forma que no se genere un bucle infinito."
      ],
      "metadata": {
        "id": "bcuIViYVeEg5"
      }
    },
    {
      "cell_type": "code",
      "source": [
        "iter = 1\n",
        "while iter < 10:\n",
        "  print(f\"paso {iter} \", end='')\n",
        "  iter = iter + 1"
      ],
      "metadata": {
        "colab": {
          "base_uri": "https://localhost:8080/"
        },
        "id": "oPht7ihNeLEv",
        "outputId": "c9e5418b-fe78-45e8-b243-1e003e63cb2b"
      },
      "execution_count": null,
      "outputs": [
        {
          "output_type": "stream",
          "name": "stdout",
          "text": [
            "paso 1 paso 2 paso 3 paso 4 paso 5 paso 6 paso 7 paso 8 paso 9 "
          ]
        }
      ]
    },
    {
      "cell_type": "markdown",
      "source": [
        "### *Ejercicio.* Suma de pares, impares y cuadrados\n",
        "\n",
        "Trata de utilizar `print`, `for` o `while` para imprimir las siguientes sumas:\n",
        "1. De los primeros 20 enteros positivos.\n",
        "2. De los enteros positivos pares menores o iguales a 20.\n",
        "3. De los enteros positivo impares menores que 20.\n",
        "\n",
        "Puede ponerlos en distintos bloques de código.\n",
        "\n",
        "**Nota:** En caso de usar `while` asegure que está actualizando la variable de la condición y que no se vaya a generar un bucle infinito.\n",
        "\n",
        "> **Salidas esperadas:** 210, 110 y 100.\n",
        "\n"
      ],
      "metadata": {
        "id": "ivCnH6u0ekV9"
      }
    },
    {
      "cell_type": "markdown",
      "source": [
        "### *Ejercicio.* Fibonacci nuevamente\n",
        "\n",
        "1. Declare `lstFiboFor = [1, 1]` y `lstFiboWhile = [1, 1]`.\n",
        "2. Por un lado, haga un ciclo `for` para agregar 20 términos de la sucesión de Fibonacci a `lstFiboFor`.\n",
        "3. Por otro lado, haga un ciclo `while` para agregar los términos de la sucesión de Fibonacci a `lstFiboWhile` que sean menores a 3000.\n",
        "4. Imprima el último elemento de `lstFiboFor` y de `lstFiboWhile`."
      ],
      "metadata": {
        "id": "w91LyrYE_Kdw"
      }
    },
    {
      "cell_type": "code",
      "source": [
        "# lstFiboFor = ...\n",
        "# lstFiboWhile = ...\n",
        "\n",
        "# for n in ... :\n",
        "\n",
        "\n",
        "\n",
        "# while ... :\n",
        "\n",
        "\n"
      ],
      "metadata": {
        "id": "ZE5lp9hC_24Y"
      },
      "execution_count": null,
      "outputs": []
    },
    {
      "cell_type": "markdown",
      "source": [
        "## Enunciados `else`, `break` y `continue`\n",
        "\n"
      ],
      "metadata": {
        "id": "WC3vDn9ZgVaK"
      }
    },
    {
      "cell_type": "markdown",
      "source": [
        "Al usar `if` podemos complementar con un `else` al mismo nivel para ejecutar código en caso de que la condición en el `if` correspondiente sea `False`."
      ],
      "metadata": {
        "id": "2Kg3X-99iKLr"
      }
    },
    {
      "cell_type": "code",
      "source": [
        "sum1=0\n",
        "sum2=0\n",
        "\n",
        "for n in range(1,11):\n",
        "  if n<5:\n",
        "    sum1=sum1+n\n",
        "  else:\n",
        "    sum2=sum2+n\n",
        "  print(f\"sumando {n} \", end='')\n",
        "\n",
        "print(\"\\n\", sum1, sum2)"
      ],
      "metadata": {
        "colab": {
          "base_uri": "https://localhost:8080/"
        },
        "id": "MatlHJhEiWba",
        "outputId": "4dff8228-c509-417c-b688-46dd3d09eb4c"
      },
      "execution_count": null,
      "outputs": [
        {
          "output_type": "stream",
          "name": "stdout",
          "text": [
            "sumando 1 sumando 2 sumando 3 sumando 4 sumando 5 sumando 6 sumando 7 sumando 8 sumando 9 sumando 10 \n",
            " 10 45\n"
          ]
        }
      ]
    },
    {
      "cell_type": "markdown",
      "source": [
        "Por otro lado, en ocasiones necesitaremos terminar anticipadamente un ciclo. Para hacerlo podemos usar `if` junto con `break`."
      ],
      "metadata": {
        "id": "2qV_sOMpiJCG"
      }
    },
    {
      "cell_type": "code",
      "source": [
        "for n in list(\"algoritmo\"):\n",
        "  if n == \"r\":\n",
        "    print(\"\\nse encontró una \\'r\\', saliendo\")\n",
        "    break\n",
        "  print(n+\"-\",end='')"
      ],
      "metadata": {
        "colab": {
          "base_uri": "https://localhost:8080/"
        },
        "id": "H_zdAfKthYi-",
        "outputId": "a394a135-e3e1-4fc8-e6a0-6a7003b9ab74"
      },
      "execution_count": null,
      "outputs": [
        {
          "output_type": "stream",
          "name": "stdout",
          "text": [
            "a-l-g-o-\n",
            "se encontró una 'r', saliendo\n"
          ]
        }
      ]
    },
    {
      "cell_type": "markdown",
      "source": [
        "Y a veces necesitaremos saltar algunos casos en un ciclo continuando con los siguientes. Para esta podemos emplear `continue`."
      ],
      "metadata": {
        "id": "IY0NdUJ5ASYk"
      }
    },
    {
      "cell_type": "code",
      "source": [
        "for n in list(\"algoritmo\"):\n",
        "  if n == \"o\":\n",
        "    continue  # si encontramos una 'o', romper ejecución actual y pasar a siguiente iteración\n",
        "  print(n+\"-\",end='')"
      ],
      "metadata": {
        "colab": {
          "base_uri": "https://localhost:8080/"
        },
        "id": "lnySLDmfAkb9",
        "outputId": "dfc9a368-c556-40b9-963b-e5bfe442e445"
      },
      "execution_count": null,
      "outputs": [
        {
          "output_type": "stream",
          "name": "stdout",
          "text": [
            "a-l-g-r-i-t-m-"
          ]
        }
      ]
    },
    {
      "cell_type": "markdown",
      "source": [
        "### *Ejercicio.* Aplausos y vueltas\n",
        "\n",
        "1. Declare `aplausos = 0`\n",
        "2. Haga un ciclo `for` que ejecute código para un contador `n` que recorre desde 0 hasta 99.\n",
        "3. Dentro del ciclo, imprima el valor de `n` si 2 ó 3 no son dígitos del valor de `n`.\n",
        "4. Si 3 es dígito del valor de `n`, aumente el valor de `aplausos` en 1 y y pase al siguiente valor de `n`.\n",
        "5. Si 2 es dígito del valor de `n`, imprima `shh` y pase al siguiente valor de `n`.\n",
        "6. Si el valor de aplausos llega a 15, rompa el ciclo `for`."
      ],
      "metadata": {
        "id": "W1hSrHDqBVSR"
      }
    },
    {
      "cell_type": "code",
      "source": [],
      "metadata": {
        "id": "fONyJl0WU8EV"
      },
      "execution_count": null,
      "outputs": []
    },
    {
      "cell_type": "code",
      "source": [
        "# @title\n",
        "aplausos = 0\n",
        "for n in range(100):\n",
        "  if '3' in str(n):\n",
        "    aplausos += 1\n",
        "    if aplausos == 15:\n",
        "      break\n",
        "    continue\n",
        "  if '2' in str(n):\n",
        "    print('shh',end=' ')\n",
        "    continue\n",
        "  print(n,end=' ')"
      ],
      "metadata": {
        "colab": {
          "base_uri": "https://localhost:8080/"
        },
        "id": "JIElKLXWDPGL",
        "outputId": "2d525f1c-a5d5-4f26-aa21-c3dff402b3fc",
        "cellView": "form"
      },
      "execution_count": null,
      "outputs": [
        {
          "output_type": "stream",
          "name": "stdout",
          "text": [
            "0 1 shh 4 5 6 7 8 9 10 11 shh 14 15 16 17 18 19 shh shh shh shh shh shh shh shh shh 40 41 shh 44 45 46 47 48 49 50 51 shh "
          ]
        }
      ]
    },
    {
      "cell_type": "code",
      "source": [],
      "metadata": {
        "id": "wzBsXykNDtPr"
      },
      "execution_count": null,
      "outputs": []
    }
  ]
}